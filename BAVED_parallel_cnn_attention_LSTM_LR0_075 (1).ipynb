{
  "nbformat": 4,
  "nbformat_minor": 0,
  "metadata": {
    "colab": {
      "provenance": [],
      "gpuType": "T4"
    },
    "kernelspec": {
      "name": "python3",
      "display_name": "Python 3"
    },
    "language_info": {
      "name": "python"
    },
    "accelerator": "GPU"
  },
  "cells": [
    {
      "cell_type": "code",
      "execution_count": 3,
      "metadata": {
        "id": "FL92Zt_qRUBG"
      },
      "outputs": [],
      "source": [
        "import numpy as np\n",
        "import pandas as pd\n",
        "import os\n",
        "import librosa\n",
        "import librosa.display\n",
        "import IPython\n",
        "from IPython.display import Audio\n",
        "from IPython.display import Image\n",
        "import matplotlib.pyplot as plt\n",
        "from torch.optim.lr_scheduler import ReduceLROnPlateau\n",
        "import re\n",
        "from pydub import AudioSegment\n",
        "import torch\n",
        "import torch.nn as nn\n",
        "from google.colab import drive\n",
        "from sklearn.metrics import classification_report\n",
        "from sklearn.metrics import confusion_matrix"
      ]
    },
    {
      "cell_type": "code",
      "source": [
        "# Define the EMOTIONS dictionary\n",
        "EMOTIONS = {0: 'low', 1: 'neutral', 2: 'high'}\n",
        "parent_folder = '/content/drive/MyDrive/Colab Notebooks/recordings'\n",
        "SAMPLE_RATE = 16000\n",
        "drive.mount('/content/drive')\n",
        "\n",
        "\n",
        "# Initialize an empty list to store the dataset rows\n",
        "data = []\n",
        "\n",
        "# Iterate over each folder (0-6)\n",
        "for folder_name in os.listdir(parent_folder):\n",
        "    folder_path = os.path.join(parent_folder, folder_name)\n",
        "\n",
        "    # Iterate over each audio file in the folder\n",
        "    for audio_file in os.listdir(folder_path):\n",
        "        file_path = os.path.join(folder_path, audio_file)\n",
        "\n",
        "        # Extract information from the filename\n",
        "        speaker_id, speaker_gender, speaker_age, spoken_word, spoken_emotion, record_id = audio_file.split('-')\n",
        "        record_id = re.sub(r'\\D', '', record_id)  # Remove non-numeric characters\n",
        "        audio = AudioSegment.from_file(file_path)\n",
        "\n",
        "        # Append the extracted information to the data list\n",
        "        data.append({\n",
        "            \"Name\": audio_file,\n",
        "            \"Emotion\": int(spoken_emotion),\n",
        "            \"Emotion_Label\": EMOTIONS[int(spoken_emotion)],\n",
        "            \"Gender\": speaker_gender,\n",
        "            \"Speaker_ID\": int(speaker_id),\n",
        "            \"Speaker_Age\": int(speaker_age),\n",
        "            \"Spoken_Word\": int(spoken_word),\n",
        "            \"Record_ID\": int(record_id),\n",
        "            \"Path\": file_path\n",
        "        })\n",
        "\n",
        "\n"
      ],
      "metadata": {
        "colab": {
          "base_uri": "https://localhost:8080/"
        },
        "id": "aPANDkluRVJL",
        "outputId": "7ade2e4f-d937-486c-87f7-5fe76289a288"
      },
      "execution_count": 64,
      "outputs": [
        {
          "output_type": "stream",
          "name": "stdout",
          "text": [
            "Drive already mounted at /content/drive; to attempt to forcibly remount, call drive.mount(\"/content/drive\", force_remount=True).\n"
          ]
        }
      ]
    },
    {
      "cell_type": "code",
      "source": [
        "Data = pd.DataFrame(data)\n",
        "Data.head()"
      ],
      "metadata": {
        "colab": {
          "base_uri": "https://localhost:8080/",
          "height": 206
        },
        "id": "K1yZC4VvR24k",
        "outputId": "f1552bed-76e0-4d05-c633-6d60a69184a2"
      },
      "execution_count": 105,
      "outputs": [
        {
          "output_type": "execute_result",
          "data": {
            "text/plain": [
              "                 Name  Emotion Emotion_Label Gender  Speaker_ID  Speaker_Age  \\\n",
              "0   10-f-20-0-1-0.wav        1       neutral      f          10           20   \n",
              "1  0-m-21-0-2-106.wav        2          high      m           0           21   \n",
              "2  0-m-21-0-1-105.wav        1       neutral      m           0           21   \n",
              "3  1-m-20-0-1-107.wav        1       neutral      m           1           20   \n",
              "4  102-f-40-0-2-5.wav        2          high      f         102           40   \n",
              "\n",
              "   Spoken_Word  Record_ID                                               Path  \n",
              "0            0          0  /content/drive/MyDrive/Colab Notebooks/recordi...  \n",
              "1            0        106  /content/drive/MyDrive/Colab Notebooks/recordi...  \n",
              "2            0        105  /content/drive/MyDrive/Colab Notebooks/recordi...  \n",
              "3            0        107  /content/drive/MyDrive/Colab Notebooks/recordi...  \n",
              "4            0          5  /content/drive/MyDrive/Colab Notebooks/recordi...  "
            ],
            "text/html": [
              "\n",
              "  <div id=\"df-7e069bef-355c-4989-b767-d8a97e881d3b\" class=\"colab-df-container\">\n",
              "    <div>\n",
              "<style scoped>\n",
              "    .dataframe tbody tr th:only-of-type {\n",
              "        vertical-align: middle;\n",
              "    }\n",
              "\n",
              "    .dataframe tbody tr th {\n",
              "        vertical-align: top;\n",
              "    }\n",
              "\n",
              "    .dataframe thead th {\n",
              "        text-align: right;\n",
              "    }\n",
              "</style>\n",
              "<table border=\"1\" class=\"dataframe\">\n",
              "  <thead>\n",
              "    <tr style=\"text-align: right;\">\n",
              "      <th></th>\n",
              "      <th>Name</th>\n",
              "      <th>Emotion</th>\n",
              "      <th>Emotion_Label</th>\n",
              "      <th>Gender</th>\n",
              "      <th>Speaker_ID</th>\n",
              "      <th>Speaker_Age</th>\n",
              "      <th>Spoken_Word</th>\n",
              "      <th>Record_ID</th>\n",
              "      <th>Path</th>\n",
              "    </tr>\n",
              "  </thead>\n",
              "  <tbody>\n",
              "    <tr>\n",
              "      <th>0</th>\n",
              "      <td>10-f-20-0-1-0.wav</td>\n",
              "      <td>1</td>\n",
              "      <td>neutral</td>\n",
              "      <td>f</td>\n",
              "      <td>10</td>\n",
              "      <td>20</td>\n",
              "      <td>0</td>\n",
              "      <td>0</td>\n",
              "      <td>/content/drive/MyDrive/Colab Notebooks/recordi...</td>\n",
              "    </tr>\n",
              "    <tr>\n",
              "      <th>1</th>\n",
              "      <td>0-m-21-0-2-106.wav</td>\n",
              "      <td>2</td>\n",
              "      <td>high</td>\n",
              "      <td>m</td>\n",
              "      <td>0</td>\n",
              "      <td>21</td>\n",
              "      <td>0</td>\n",
              "      <td>106</td>\n",
              "      <td>/content/drive/MyDrive/Colab Notebooks/recordi...</td>\n",
              "    </tr>\n",
              "    <tr>\n",
              "      <th>2</th>\n",
              "      <td>0-m-21-0-1-105.wav</td>\n",
              "      <td>1</td>\n",
              "      <td>neutral</td>\n",
              "      <td>m</td>\n",
              "      <td>0</td>\n",
              "      <td>21</td>\n",
              "      <td>0</td>\n",
              "      <td>105</td>\n",
              "      <td>/content/drive/MyDrive/Colab Notebooks/recordi...</td>\n",
              "    </tr>\n",
              "    <tr>\n",
              "      <th>3</th>\n",
              "      <td>1-m-20-0-1-107.wav</td>\n",
              "      <td>1</td>\n",
              "      <td>neutral</td>\n",
              "      <td>m</td>\n",
              "      <td>1</td>\n",
              "      <td>20</td>\n",
              "      <td>0</td>\n",
              "      <td>107</td>\n",
              "      <td>/content/drive/MyDrive/Colab Notebooks/recordi...</td>\n",
              "    </tr>\n",
              "    <tr>\n",
              "      <th>4</th>\n",
              "      <td>102-f-40-0-2-5.wav</td>\n",
              "      <td>2</td>\n",
              "      <td>high</td>\n",
              "      <td>f</td>\n",
              "      <td>102</td>\n",
              "      <td>40</td>\n",
              "      <td>0</td>\n",
              "      <td>5</td>\n",
              "      <td>/content/drive/MyDrive/Colab Notebooks/recordi...</td>\n",
              "    </tr>\n",
              "  </tbody>\n",
              "</table>\n",
              "</div>\n",
              "    <div class=\"colab-df-buttons\">\n",
              "\n",
              "  <div class=\"colab-df-container\">\n",
              "    <button class=\"colab-df-convert\" onclick=\"convertToInteractive('df-7e069bef-355c-4989-b767-d8a97e881d3b')\"\n",
              "            title=\"Convert this dataframe to an interactive table.\"\n",
              "            style=\"display:none;\">\n",
              "\n",
              "  <svg xmlns=\"http://www.w3.org/2000/svg\" height=\"24px\" viewBox=\"0 -960 960 960\">\n",
              "    <path d=\"M120-120v-720h720v720H120Zm60-500h600v-160H180v160Zm220 220h160v-160H400v160Zm0 220h160v-160H400v160ZM180-400h160v-160H180v160Zm440 0h160v-160H620v160ZM180-180h160v-160H180v160Zm440 0h160v-160H620v160Z\"/>\n",
              "  </svg>\n",
              "    </button>\n",
              "\n",
              "  <style>\n",
              "    .colab-df-container {\n",
              "      display:flex;\n",
              "      gap: 12px;\n",
              "    }\n",
              "\n",
              "    .colab-df-convert {\n",
              "      background-color: #E8F0FE;\n",
              "      border: none;\n",
              "      border-radius: 50%;\n",
              "      cursor: pointer;\n",
              "      display: none;\n",
              "      fill: #1967D2;\n",
              "      height: 32px;\n",
              "      padding: 0 0 0 0;\n",
              "      width: 32px;\n",
              "    }\n",
              "\n",
              "    .colab-df-convert:hover {\n",
              "      background-color: #E2EBFA;\n",
              "      box-shadow: 0px 1px 2px rgba(60, 64, 67, 0.3), 0px 1px 3px 1px rgba(60, 64, 67, 0.15);\n",
              "      fill: #174EA6;\n",
              "    }\n",
              "\n",
              "    .colab-df-buttons div {\n",
              "      margin-bottom: 4px;\n",
              "    }\n",
              "\n",
              "    [theme=dark] .colab-df-convert {\n",
              "      background-color: #3B4455;\n",
              "      fill: #D2E3FC;\n",
              "    }\n",
              "\n",
              "    [theme=dark] .colab-df-convert:hover {\n",
              "      background-color: #434B5C;\n",
              "      box-shadow: 0px 1px 3px 1px rgba(0, 0, 0, 0.15);\n",
              "      filter: drop-shadow(0px 1px 2px rgba(0, 0, 0, 0.3));\n",
              "      fill: #FFFFFF;\n",
              "    }\n",
              "  </style>\n",
              "\n",
              "    <script>\n",
              "      const buttonEl =\n",
              "        document.querySelector('#df-7e069bef-355c-4989-b767-d8a97e881d3b button.colab-df-convert');\n",
              "      buttonEl.style.display =\n",
              "        google.colab.kernel.accessAllowed ? 'block' : 'none';\n",
              "\n",
              "      async function convertToInteractive(key) {\n",
              "        const element = document.querySelector('#df-7e069bef-355c-4989-b767-d8a97e881d3b');\n",
              "        const dataTable =\n",
              "          await google.colab.kernel.invokeFunction('convertToInteractive',\n",
              "                                                    [key], {});\n",
              "        if (!dataTable) return;\n",
              "\n",
              "        const docLinkHtml = 'Like what you see? Visit the ' +\n",
              "          '<a target=\"_blank\" href=https://colab.research.google.com/notebooks/data_table.ipynb>data table notebook</a>'\n",
              "          + ' to learn more about interactive tables.';\n",
              "        element.innerHTML = '';\n",
              "        dataTable['output_type'] = 'display_data';\n",
              "        await google.colab.output.renderOutput(dataTable, element);\n",
              "        const docLink = document.createElement('div');\n",
              "        docLink.innerHTML = docLinkHtml;\n",
              "        element.appendChild(docLink);\n",
              "      }\n",
              "    </script>\n",
              "  </div>\n",
              "\n",
              "\n",
              "<div id=\"df-59462c60-49fc-408d-80f7-4388cdd20726\">\n",
              "  <button class=\"colab-df-quickchart\" onclick=\"quickchart('df-59462c60-49fc-408d-80f7-4388cdd20726')\"\n",
              "            title=\"Suggest charts\"\n",
              "            style=\"display:none;\">\n",
              "\n",
              "<svg xmlns=\"http://www.w3.org/2000/svg\" height=\"24px\"viewBox=\"0 0 24 24\"\n",
              "     width=\"24px\">\n",
              "    <g>\n",
              "        <path d=\"M19 3H5c-1.1 0-2 .9-2 2v14c0 1.1.9 2 2 2h14c1.1 0 2-.9 2-2V5c0-1.1-.9-2-2-2zM9 17H7v-7h2v7zm4 0h-2V7h2v10zm4 0h-2v-4h2v4z\"/>\n",
              "    </g>\n",
              "</svg>\n",
              "  </button>\n",
              "\n",
              "<style>\n",
              "  .colab-df-quickchart {\n",
              "      --bg-color: #E8F0FE;\n",
              "      --fill-color: #1967D2;\n",
              "      --hover-bg-color: #E2EBFA;\n",
              "      --hover-fill-color: #174EA6;\n",
              "      --disabled-fill-color: #AAA;\n",
              "      --disabled-bg-color: #DDD;\n",
              "  }\n",
              "\n",
              "  [theme=dark] .colab-df-quickchart {\n",
              "      --bg-color: #3B4455;\n",
              "      --fill-color: #D2E3FC;\n",
              "      --hover-bg-color: #434B5C;\n",
              "      --hover-fill-color: #FFFFFF;\n",
              "      --disabled-bg-color: #3B4455;\n",
              "      --disabled-fill-color: #666;\n",
              "  }\n",
              "\n",
              "  .colab-df-quickchart {\n",
              "    background-color: var(--bg-color);\n",
              "    border: none;\n",
              "    border-radius: 50%;\n",
              "    cursor: pointer;\n",
              "    display: none;\n",
              "    fill: var(--fill-color);\n",
              "    height: 32px;\n",
              "    padding: 0;\n",
              "    width: 32px;\n",
              "  }\n",
              "\n",
              "  .colab-df-quickchart:hover {\n",
              "    background-color: var(--hover-bg-color);\n",
              "    box-shadow: 0 1px 2px rgba(60, 64, 67, 0.3), 0 1px 3px 1px rgba(60, 64, 67, 0.15);\n",
              "    fill: var(--button-hover-fill-color);\n",
              "  }\n",
              "\n",
              "  .colab-df-quickchart-complete:disabled,\n",
              "  .colab-df-quickchart-complete:disabled:hover {\n",
              "    background-color: var(--disabled-bg-color);\n",
              "    fill: var(--disabled-fill-color);\n",
              "    box-shadow: none;\n",
              "  }\n",
              "\n",
              "  .colab-df-spinner {\n",
              "    border: 2px solid var(--fill-color);\n",
              "    border-color: transparent;\n",
              "    border-bottom-color: var(--fill-color);\n",
              "    animation:\n",
              "      spin 1s steps(1) infinite;\n",
              "  }\n",
              "\n",
              "  @keyframes spin {\n",
              "    0% {\n",
              "      border-color: transparent;\n",
              "      border-bottom-color: var(--fill-color);\n",
              "      border-left-color: var(--fill-color);\n",
              "    }\n",
              "    20% {\n",
              "      border-color: transparent;\n",
              "      border-left-color: var(--fill-color);\n",
              "      border-top-color: var(--fill-color);\n",
              "    }\n",
              "    30% {\n",
              "      border-color: transparent;\n",
              "      border-left-color: var(--fill-color);\n",
              "      border-top-color: var(--fill-color);\n",
              "      border-right-color: var(--fill-color);\n",
              "    }\n",
              "    40% {\n",
              "      border-color: transparent;\n",
              "      border-right-color: var(--fill-color);\n",
              "      border-top-color: var(--fill-color);\n",
              "    }\n",
              "    60% {\n",
              "      border-color: transparent;\n",
              "      border-right-color: var(--fill-color);\n",
              "    }\n",
              "    80% {\n",
              "      border-color: transparent;\n",
              "      border-right-color: var(--fill-color);\n",
              "      border-bottom-color: var(--fill-color);\n",
              "    }\n",
              "    90% {\n",
              "      border-color: transparent;\n",
              "      border-bottom-color: var(--fill-color);\n",
              "    }\n",
              "  }\n",
              "</style>\n",
              "\n",
              "  <script>\n",
              "    async function quickchart(key) {\n",
              "      const quickchartButtonEl =\n",
              "        document.querySelector('#' + key + ' button');\n",
              "      quickchartButtonEl.disabled = true;  // To prevent multiple clicks.\n",
              "      quickchartButtonEl.classList.add('colab-df-spinner');\n",
              "      try {\n",
              "        const charts = await google.colab.kernel.invokeFunction(\n",
              "            'suggestCharts', [key], {});\n",
              "      } catch (error) {\n",
              "        console.error('Error during call to suggestCharts:', error);\n",
              "      }\n",
              "      quickchartButtonEl.classList.remove('colab-df-spinner');\n",
              "      quickchartButtonEl.classList.add('colab-df-quickchart-complete');\n",
              "    }\n",
              "    (() => {\n",
              "      let quickchartButtonEl =\n",
              "        document.querySelector('#df-59462c60-49fc-408d-80f7-4388cdd20726 button');\n",
              "      quickchartButtonEl.style.display =\n",
              "        google.colab.kernel.accessAllowed ? 'block' : 'none';\n",
              "    })();\n",
              "  </script>\n",
              "</div>\n",
              "\n",
              "    </div>\n",
              "  </div>\n"
            ],
            "application/vnd.google.colaboratory.intrinsic+json": {
              "type": "dataframe",
              "variable_name": "Data",
              "summary": "{\n  \"name\": \"Data\",\n  \"rows\": 1935,\n  \"fields\": [\n    {\n      \"column\": \"Name\",\n      \"properties\": {\n        \"dtype\": \"string\",\n        \"num_unique_values\": 1935,\n        \"samples\": [\n          \"0-m-21-2-1-662.wav\",\n          \"0-m-21-3-1-921.wav\",\n          \"100-f-6-3-2-38.wav\"\n        ],\n        \"semantic_type\": \"\",\n        \"description\": \"\"\n      }\n    },\n    {\n      \"column\": \"Emotion\",\n      \"properties\": {\n        \"dtype\": \"number\",\n        \"std\": 0,\n        \"min\": 0,\n        \"max\": 2,\n        \"num_unique_values\": 3,\n        \"samples\": [\n          1,\n          2,\n          0\n        ],\n        \"semantic_type\": \"\",\n        \"description\": \"\"\n      }\n    },\n    {\n      \"column\": \"Emotion_Label\",\n      \"properties\": {\n        \"dtype\": \"category\",\n        \"num_unique_values\": 3,\n        \"samples\": [\n          \"neutral\",\n          \"high\",\n          \"low\"\n        ],\n        \"semantic_type\": \"\",\n        \"description\": \"\"\n      }\n    },\n    {\n      \"column\": \"Gender\",\n      \"properties\": {\n        \"dtype\": \"category\",\n        \"num_unique_values\": 2,\n        \"samples\": [\n          \"m\",\n          \"f\"\n        ],\n        \"semantic_type\": \"\",\n        \"description\": \"\"\n      }\n    },\n    {\n      \"column\": \"Speaker_ID\",\n      \"properties\": {\n        \"dtype\": \"number\",\n        \"std\": 19,\n        \"min\": 0,\n        \"max\": 103,\n        \"num_unique_values\": 60,\n        \"samples\": [\n          10,\n          101\n        ],\n        \"semantic_type\": \"\",\n        \"description\": \"\"\n      }\n    },\n    {\n      \"column\": \"Speaker_Age\",\n      \"properties\": {\n        \"dtype\": \"number\",\n        \"std\": 10,\n        \"min\": 5,\n        \"max\": 41,\n        \"num_unique_values\": 15,\n        \"samples\": [\n          17,\n          14\n        ],\n        \"semantic_type\": \"\",\n        \"description\": \"\"\n      }\n    },\n    {\n      \"column\": \"Spoken_Word\",\n      \"properties\": {\n        \"dtype\": \"number\",\n        \"std\": 1,\n        \"min\": 0,\n        \"max\": 6,\n        \"num_unique_values\": 7,\n        \"samples\": [\n          0,\n          6\n        ],\n        \"semantic_type\": \"\",\n        \"description\": \"\"\n      }\n    },\n    {\n      \"column\": \"Record_ID\",\n      \"properties\": {\n        \"dtype\": \"number\",\n        \"std\": 552,\n        \"min\": 0,\n        \"max\": 1850,\n        \"num_unique_values\": 1851,\n        \"samples\": [\n          76,\n          1426\n        ],\n        \"semantic_type\": \"\",\n        \"description\": \"\"\n      }\n    },\n    {\n      \"column\": \"Path\",\n      \"properties\": {\n        \"dtype\": \"string\",\n        \"num_unique_values\": 1935,\n        \"samples\": [\n          \"/content/drive/MyDrive/Colab Notebooks/recordings/2/0-m-21-2-1-662.wav\",\n          \"/content/drive/MyDrive/Colab Notebooks/recordings/3/0-m-21-3-1-921.wav\"\n        ],\n        \"semantic_type\": \"\",\n        \"description\": \"\"\n      }\n    }\n  ]\n}"
            }
          },
          "metadata": {},
          "execution_count": 105
        }
      ]
    },
    {
      "cell_type": "code",
      "source": [
        "fig = plt.figure()\n",
        "ax = fig.add_subplot(111)\n",
        "ax.bar(x=range(3), height=Data['Emotion'].value_counts())\n",
        "ax.set_xticks(ticks=range(3))\n",
        "ax.set_xticklabels([EMOTIONS[i] for i in EMOTIONS ],fontsize=10)\n",
        "ax.set_xlabel('Emotions')\n",
        "ax.set_ylabel('Number of examples')"
      ],
      "metadata": {
        "colab": {
          "base_uri": "https://localhost:8080/",
          "height": 466
        },
        "id": "JElxqspRR5-T",
        "outputId": "7bde0abf-c576-4c9f-e61d-577d03533b7c"
      },
      "execution_count": 106,
      "outputs": [
        {
          "output_type": "execute_result",
          "data": {
            "text/plain": [
              "Text(0, 0.5, 'Number of examples')"
            ]
          },
          "metadata": {},
          "execution_count": 106
        },
        {
          "output_type": "display_data",
          "data": {
            "text/plain": [
              "<Figure size 640x480 with 1 Axes>"
            ],
            "image/png": "[encoded data removed]"
          },
          "metadata": {}
        }
      ]
    },
    {
      "cell_type": "code",
      "source": [
        "fig = plt.figure()\n",
        "ax = fig.add_subplot(111)\n",
        "counts = Data['Gender'].value_counts()\n",
        "ax.bar(x=[0,1], height=counts.values)\n",
        "ax.set_xticks(ticks=[0,1])\n",
        "ax.set_xticklabels(list(counts.index))\n",
        "ax.set_xlabel('Gender')\n",
        "ax.set_ylabel('Number of examples')"
      ],
      "metadata": {
        "colab": {
          "base_uri": "https://localhost:8080/",
          "height": 466
        },
        "id": "P-52shKeSLsS",
        "outputId": "4b388ca0-c1ba-4b2d-ea11-e15e6177847f"
      },
      "execution_count": 107,
      "outputs": [
        {
          "output_type": "execute_result",
          "data": {
            "text/plain": [
              "Text(0, 0.5, 'Number of examples')"
            ]
          },
          "metadata": {},
          "execution_count": 107
        },
        {
          "output_type": "display_data",
          "data": {
            "text/plain": [
              "<Figure size 640x480 with 1 Axes>"
            ],
            "image/png": "[encoded data removed]"
          },
          "metadata": {}
        }
      ]
    },
    {
      "cell_type": "code",
      "source": [
        "def getMELspectrogram(audio, sample_rate):\n",
        "    mel_spec = librosa.feature.melspectrogram(y=audio,\n",
        "                                              sr=sample_rate,\n",
        "                                              n_fft=1024,\n",
        "                                              win_length = 512,\n",
        "                                              window='hamming',\n",
        "                                              hop_length = 256,\n",
        "                                              n_mels=128,\n",
        "                                              fmax=sample_rate/2\n",
        "                                             )\n",
        "    mel_spec_db = librosa.power_to_db(mel_spec, ref=np.max)\n",
        "    return mel_spec_db"
      ],
      "metadata": {
        "id": "-BBpQZqXSNAy"
      },
      "execution_count": 108,
      "outputs": []
    },
    {
      "cell_type": "code",
      "source": [
        "audio, sample_rate = librosa.load(Data.loc[0,'Path'], duration=3, offset=0.5,sr=SAMPLE_RATE)\n",
        "signal = np.zeros((int(SAMPLE_RATE*3,)))\n",
        "signal[:len(audio)] = audio\n",
        "mel_spectrogram = getMELspectrogram(signal, SAMPLE_RATE)\n",
        "librosa.display.specshow(mel_spectrogram, y_axis='mel', x_axis='time')\n",
        "print('MEL spectrogram shape: ',mel_spectrogram.shape)"
      ],
      "metadata": {
        "colab": {
          "base_uri": "https://localhost:8080/",
          "height": 466
        },
        "id": "SFJ2TRt8SOJS",
        "outputId": "7e4c3cce-af40-4dd1-e284-22f932ce19f8"
      },
      "execution_count": 109,
      "outputs": [
        {
          "output_type": "stream",
          "name": "stdout",
          "text": [
            "MEL spectrogram shape:  (128, 188)\n"
          ]
        },
        {
          "output_type": "display_data",
          "data": {
            "text/plain": [
              "<Figure size 640x480 with 1 Axes>"
            ],
            "image/png": "[encoded data removed]"
          },
          "metadata": {}
        }
      ]
    },
    {
      "cell_type": "code",
      "source": [
        "print(\"number of files is {}\".format(len(data)))"
      ],
      "metadata": {
        "colab": {
          "base_uri": "https://localhost:8080/"
        },
        "id": "X3XH4N-ASP2B",
        "outputId": "a175cccf-2667-47dd-86a6-51ceee92e5e7"
      },
      "execution_count": 110,
      "outputs": [
        {
          "output_type": "stream",
          "name": "stdout",
          "text": [
            "number of files is 1935\n"
          ]
        }
      ]
    },
    {
      "cell_type": "code",
      "source": [
        "mel_spectrograms = []\n",
        "signals = []\n",
        "for i, file_path in enumerate(Data.Path):\n",
        "    audio, sample_rate = librosa.load(file_path, duration=3, offset=0.5, sr=SAMPLE_RATE)\n",
        "    signal = np.zeros((int(SAMPLE_RATE*3,)))\n",
        "    signal[:len(audio)] = audio\n",
        "    signals.append(signal)\n",
        "    mel_spectrogram = getMELspectrogram(signal, sample_rate=SAMPLE_RATE)\n",
        "    mel_spectrograms.append(mel_spectrogram)\n",
        "    print(\"\\r Processed {}/{} files\".format(i,len(Data)),end='')"
      ],
      "metadata": {
        "colab": {
          "base_uri": "https://localhost:8080/"
        },
        "id": "GQdoaYYBSXvO",
        "outputId": "9937eec9-53f2-43c0-c5ca-92a1faadda1a"
      },
      "execution_count": 111,
      "outputs": [
        {
          "output_type": "stream",
          "name": "stdout",
          "text": [
            " Processed 1934/1935 files"
          ]
        }
      ]
    },
    {
      "cell_type": "code",
      "source": [
        "def addAWGN(signal, num_bits=16, augmented_num=2, snr_low=15, snr_high=30):\n",
        "    signal_len = len(signal)\n",
        "    # Generate White Gaussian noise\n",
        "    noise = np.random.normal(size=(augmented_num, signal_len))\n",
        "    # Normalize signal and noise\n",
        "    norm_constant = 2.0**(num_bits-1)\n",
        "    signal_norm = signal / norm_constant\n",
        "    noise_norm = noise / norm_constant\n",
        "    # Compute signal and noise power\n",
        "    s_power = np.sum(signal_norm ** 2) / signal_len\n",
        "    n_power = np.sum(noise_norm ** 2, axis=1) / signal_len\n",
        "    # Random SNR: Uniform [15, 30] in dB\n",
        "    target_snr = np.random.randint(snr_low, snr_high)\n",
        "    # Compute K (covariance matrix) for each noise\n",
        "    K = np.sqrt((s_power / n_power) * 10 ** (- target_snr / 10))\n",
        "    K = np.ones((signal_len, augmented_num)) * K\n",
        "    # Generate noisy signal\n",
        "    return signal + K.T * noise"
      ],
      "metadata": {
        "id": "UCNdUOaGSaHD"
      },
      "execution_count": 112,
      "outputs": []
    },
    {
      "cell_type": "code",
      "source": [
        "for i,signal in enumerate(signals):\n",
        "    augmented_signals = addAWGN(signal)\n",
        "    for j in range(augmented_signals.shape[0]):\n",
        "        mel_spectrogram = getMELspectrogram(augmented_signals[j,:], sample_rate=SAMPLE_RATE)\n",
        "        mel_spectrograms.append(mel_spectrogram)\n",
        "        Data = pd.concat([Data, Data.iloc[i:i+1]], ignore_index=True)\n",
        "    print(\"\\r Processed {}/{} files\".format(i,len(signals)),end='')"
      ],
      "metadata": {
        "colab": {
          "base_uri": "https://localhost:8080/"
        },
        "id": "oMixaOkXShBv",
        "outputId": "03e4b5c8-c761-435d-b976-949371c1a247"
      },
      "execution_count": 113,
      "outputs": [
        {
          "output_type": "stream",
          "name": "stdout",
          "text": [
            " Processed 1934/1935 files"
          ]
        }
      ]
    },
    {
      "cell_type": "code",
      "source": [
        "class ParallelModel(nn.Module):\n",
        "    def __init__(self,num_emotions):\n",
        "        super().__init__()\n",
        "        # conv block\n",
        "        self.conv2Dblock = nn.Sequential(\n",
        "            # 1. conv block\n",
        "            nn.Conv2d(in_channels=1,\n",
        "                       out_channels=16,\n",
        "                       kernel_size=3,\n",
        "                       stride=1,\n",
        "                       padding=1\n",
        "                      ),\n",
        "            nn.BatchNorm2d(16),\n",
        "            nn.ReLU(),\n",
        "            nn.MaxPool2d(kernel_size=2, stride=2),\n",
        "            nn.Dropout(p=0.3),\n",
        "            # 2. conv block\n",
        "            nn.Conv2d(in_channels=16,\n",
        "                       out_channels=32,\n",
        "                       kernel_size=3,\n",
        "                       stride=1,\n",
        "                       padding=1\n",
        "                      ),\n",
        "            nn.BatchNorm2d(32),\n",
        "            nn.ReLU(),\n",
        "            nn.MaxPool2d(kernel_size=4, stride=4),\n",
        "            nn.Dropout(p=0.3),\n",
        "            # 3. conv block\n",
        "            nn.Conv2d(in_channels=32,\n",
        "                       out_channels=64,\n",
        "                       kernel_size=3,\n",
        "                       stride=1,\n",
        "                       padding=1\n",
        "                      ),\n",
        "            nn.BatchNorm2d(64),\n",
        "            nn.ReLU(),\n",
        "            nn.MaxPool2d(kernel_size=4, stride=4),\n",
        "            nn.Dropout(p=0.3),\n",
        "            # 4. conv block\n",
        "            nn.Conv2d(in_channels=64,\n",
        "                       out_channels=64,\n",
        "                       kernel_size=3,\n",
        "                       stride=1,\n",
        "                       padding=1\n",
        "                      ),\n",
        "            nn.BatchNorm2d(64),\n",
        "            nn.ReLU(),\n",
        "            nn.MaxPool2d(kernel_size=4, stride=4),\n",
        "            nn.Dropout(p=0.3)\n",
        "        )\n",
        "        # LSTM block\n",
        "        self.lstm_maxpool = nn.MaxPool2d(kernel_size=[2,4], stride=[2,4])\n",
        "        hidden_size = 128\n",
        "        self.lstm = nn.LSTM(input_size=64,hidden_size=hidden_size,bidirectional=True, batch_first=True)\n",
        "        self.dropout_lstm = nn.Dropout(0.1)\n",
        "        self.attention_linear = nn.Linear(2*hidden_size,1) # 2*hidden_size for the 2 outputs of bidir LSTM\n",
        "        # Linear softmax layer\n",
        "        self.out_linear = nn.Linear(2*hidden_size+64,num_emotions)\n",
        "        self.dropout_linear = nn.Dropout(p=0)\n",
        "        self.out_softmax = nn.Softmax(dim=1)\n",
        "    def forward(self,x):\n",
        "        # conv embedding\n",
        "        conv_embedding = self.conv2Dblock(x) #(b,channel,freq,time)\n",
        "        conv_embedding = torch.flatten(conv_embedding, start_dim=1) # do not flatten batch dimension\n",
        "        # lstm embedding\n",
        "        x_reduced = self.lstm_maxpool(x)\n",
        "        x_reduced = torch.squeeze(x_reduced,1)\n",
        "        x_reduced = x_reduced.permute(0,2,1) # (b,t,freq)\n",
        "        lstm_embedding, (h,c) = self.lstm(x_reduced) # (b, time, hidden_size*2)\n",
        "        lstm_embedding = self.dropout_lstm(lstm_embedding)\n",
        "        batch_size,T,_ = lstm_embedding.shape\n",
        "        attention_weights = [None]*T\n",
        "        for t in range(T):\n",
        "            embedding = lstm_embedding[:,t,:]\n",
        "            attention_weights[t] = self.attention_linear(embedding)\n",
        "        attention_weights_norm = nn.functional.softmax(torch.stack(attention_weights,-1),-1)\n",
        "        attention = torch.bmm(attention_weights_norm,lstm_embedding) # (Bx1xT)*(B,T,hidden_size*2)=(B,1,2*hidden_size)\n",
        "        attention = torch.squeeze(attention, 1)\n",
        "        # concatenate\n",
        "        complete_embedding = torch.cat([conv_embedding, attention], dim=1)\n",
        "\n",
        "        output_logits = self.out_linear(complete_embedding)\n",
        "        output_logits = self.dropout_linear(output_logits)\n",
        "        output_softmax = self.out_softmax(output_logits)\n",
        "        return output_logits, output_softmax, attention_weights_norm"
      ],
      "metadata": {
        "id": "XYoXSTZjSjQI"
      },
      "execution_count": 114,
      "outputs": []
    },
    {
      "cell_type": "code",
      "source": [
        "def loss_fnc(predictions, targets):\n",
        "    return nn.CrossEntropyLoss()(input=predictions,target=targets)"
      ],
      "metadata": {
        "id": "O6Gj0pY6Swwj"
      },
      "execution_count": 115,
      "outputs": []
    },
    {
      "cell_type": "code",
      "source": [
        "def make_train_step(model, loss_fnc, optimizer):\n",
        "    def train_step(X,Y):\n",
        "        # set model to train mode\n",
        "        model.train()\n",
        "        # forward pass\n",
        "        output_logits, output_softmax, attention_weights_norm = model(X)\n",
        "        predictions = torch.argmax(output_softmax,dim=1)\n",
        "        accuracy = torch.sum(Y==predictions)/float(len(Y))\n",
        "        # compute loss\n",
        "        loss = loss_fnc(output_logits, Y)\n",
        "        # compute gradients\n",
        "        loss.backward()\n",
        "        # update parameters and zero gradients\n",
        "        optimizer.step()\n",
        "        optimizer.zero_grad()\n",
        "        return loss.item(), accuracy*100\n",
        "    return train_step"
      ],
      "metadata": {
        "id": "MoGfAAy3Sz9P"
      },
      "execution_count": 116,
      "outputs": []
    },
    {
      "cell_type": "code",
      "source": [
        "def make_validate_fnc(model,loss_fnc):\n",
        "    def validate(X,Y):\n",
        "        with torch.no_grad():\n",
        "            model.eval()\n",
        "            output_logits, output_softmax, attention_weights_norm = model(X)\n",
        "            predictions = torch.argmax(output_softmax,dim=1)\n",
        "            accuracy = torch.sum(Y==predictions)/float(len(Y))\n",
        "            loss = loss_fnc(output_logits,Y)\n",
        "        return loss.item(), accuracy*100, predictions\n",
        "    return validate"
      ],
      "metadata": {
        "id": "G_gqEea-S1BO"
      },
      "execution_count": 117,
      "outputs": []
    },
    {
      "cell_type": "code",
      "source": [
        "X = np.stack(mel_spectrograms,axis=0)\n",
        "X = np.expand_dims(X,1)\n",
        "print('Shape of data: ',X.shape)\n",
        "\n",
        "del mel_spectrograms\n",
        "del signals"
      ],
      "metadata": {
        "colab": {
          "base_uri": "https://localhost:8080/"
        },
        "id": "1HwLS4s8S21O",
        "outputId": "ecbe2c1f-4704-48fb-c8f1-135bdc4030f0"
      },
      "execution_count": 118,
      "outputs": [
        {
          "output_type": "stream",
          "name": "stdout",
          "text": [
            "Shape of data:  (5805, 1, 128, 188)\n"
          ]
        }
      ]
    },
    {
      "cell_type": "code",
      "source": [
        "train_ind,test_ind,val_ind = [],[],[]\n",
        "X_train,X_val,X_test = [],[],[]\n",
        "Y_train,Y_val,Y_test = [],[],[]\n",
        "for emotion in range(len(EMOTIONS)):\n",
        "    emotion_ind = list(Data.loc[Data.Emotion==emotion,'Emotion'].index)\n",
        "    emotion_ind = np.random.permutation(emotion_ind)\n",
        "    m = len(emotion_ind)\n",
        "    ind_train = emotion_ind[:int(0.8*m)]\n",
        "    ind_val = emotion_ind[int(0.8*m):int(0.9*m)]\n",
        "    ind_test = emotion_ind[int(0.9*m):]\n",
        "    X_train.append(X[ind_train,:,:,:])\n",
        "    Y_train.append(np.array([emotion]*len(ind_train),dtype=np.int32))\n",
        "    X_val.append(X[ind_val,:,:,:])\n",
        "    Y_val.append(np.array([emotion]*len(ind_val),dtype=np.int32))\n",
        "    X_test.append(X[ind_test,:,:,:])\n",
        "    Y_test.append(np.array([emotion]*len(ind_test),dtype=np.int32))\n",
        "    train_ind.append(ind_train)\n",
        "    test_ind.append(ind_test)\n",
        "    val_ind.append(ind_val)\n",
        "X_train = np.concatenate(X_train,0)\n",
        "X_val = np.concatenate(X_val,0)\n",
        "X_test = np.concatenate(X_test,0)\n",
        "Y_train = np.concatenate(Y_train,0)\n",
        "Y_val = np.concatenate(Y_val,0)\n",
        "Y_test = np.concatenate(Y_test,0)\n",
        "train_ind = np.concatenate(train_ind,0)\n",
        "val_ind = np.concatenate(val_ind,0)\n",
        "test_ind = np.concatenate(test_ind,0)\n",
        "print(f'X_train:{X_train.shape}, Y_train:{Y_train.shape}')\n",
        "print(f'X_val:{X_val.shape}, Y_val:{Y_val.shape}')\n",
        "print(f'X_test:{X_test.shape}, Y_test:{Y_test.shape}')\n",
        "# check if all are unique\n",
        "unique, count = np.unique(np.concatenate([train_ind,test_ind,val_ind],0), return_counts=True)\n",
        "print(\"Number of unique indexes is {}, out of {}\".format(sum(count==1), X.shape[0]))\n",
        "\n",
        "del X"
      ],
      "metadata": {
        "colab": {
          "base_uri": "https://localhost:8080/"
        },
        "id": "shaD4K7gS4A4",
        "outputId": "25d02529-7a34-43ce-beb5-09d82a88143a"
      },
      "execution_count": 119,
      "outputs": [
        {
          "output_type": "stream",
          "name": "stdout",
          "text": [
            "X_train:(4643, 1, 128, 188), Y_train:(4643,)\n",
            "X_val:(580, 1, 128, 188), Y_val:(580,)\n",
            "X_test:(582, 1, 128, 188), Y_test:(582,)\n",
            "Number of unique indexes is 5805, out of 5805\n"
          ]
        }
      ]
    },
    {
      "cell_type": "code",
      "source": [
        "from sklearn.preprocessing import StandardScaler\n",
        "\n",
        "scaler = StandardScaler()\n",
        "\n",
        "b,c,h,w = X_train.shape\n",
        "X_train = np.reshape(X_train, newshape=(b,-1))\n",
        "X_train = scaler.fit_transform(X_train)\n",
        "X_train = np.reshape(X_train, newshape=(b,c,h,w))\n",
        "\n",
        "b,c,h,w = X_test.shape\n",
        "X_test = np.reshape(X_test, newshape=(b,-1))\n",
        "X_test = scaler.transform(X_test)\n",
        "X_test = np.reshape(X_test, newshape=(b,c,h,w))\n",
        "\n",
        "b,c,h,w = X_val.shape\n",
        "X_val = np.reshape(X_val, newshape=(b,-1))\n",
        "X_val = scaler.transform(X_val)\n",
        "X_val = np.reshape(X_val, newshape=(b,c,h,w))"
      ],
      "metadata": {
        "id": "20wLY7u2S5ZN"
      },
      "execution_count": 120,
      "outputs": []
    },
    {
      "cell_type": "code",
      "source": [
        "device = 'cuda' if torch.cuda.is_available() else 'cpu'\n",
        "EPOCHS = 100\n",
        "DATASET_SIZE = X_train.shape[0]\n",
        "BATCH_SIZE = 32\n",
        "print('Selected device is {}'.format(device))\n",
        "model = ParallelModel(num_emotions=len(EMOTIONS)).to(device)\n",
        "print('Number of trainable params: ', sum(p.numel() for p in model.parameters()))\n",
        "optimizer = torch.optim.SGD(model.parameters(), lr=0.075, weight_decay=1e-3, momentum=0.8)\n",
        "scheduler = ReduceLROnPlateau(optimizer, mode='min', factor=0.1, patience=5, verbose=True)\n",
        "\n",
        "train_step = make_train_step(model, loss_fnc, optimizer=optimizer)\n",
        "validate = make_validate_fnc(model, loss_fnc)\n",
        "losses = []\n",
        "val_losses = []\n",
        "\n",
        "# Training loop with learning rate scheduler\n",
        "for epoch in range(EPOCHS):\n",
        "    # Shuffle data\n",
        "    ind = np.random.permutation(DATASET_SIZE)\n",
        "    X_train = X_train[ind,:,:,:]\n",
        "    Y_train = Y_train[ind]\n",
        "    epoch_acc = 0\n",
        "    epoch_loss = 0\n",
        "    iters = int(DATASET_SIZE / BATCH_SIZE)\n",
        "    for i in range(iters):\n",
        "        batch_start = i * BATCH_SIZE\n",
        "        batch_end = min(batch_start + BATCH_SIZE, DATASET_SIZE)\n",
        "        actual_batch_size = batch_end - batch_start\n",
        "        X = X_train[batch_start:batch_end,:,:,:]\n",
        "        Y = Y_train[batch_start:batch_end]\n",
        "        X_tensor = torch.tensor(X, device=device).float()\n",
        "        Y_tensor = torch.tensor(Y, dtype=torch.long, device=device)\n",
        "        loss, acc = train_step(X_tensor, Y_tensor)\n",
        "        epoch_acc += acc * actual_batch_size / DATASET_SIZE\n",
        "        epoch_loss += loss * actual_batch_size / DATASET_SIZE\n",
        "        print(f\"\\r Epoch {epoch}: iteration {i}/{iters}\", end='')\n",
        "\n",
        "    # Adjust learning rate based on validation loss\n",
        "    X_val_tensor = torch.tensor(X_val,device=device).float()\n",
        "    Y_val_tensor = torch.tensor(Y_val,dtype=torch.long,device=device)\n",
        "    val_loss, val_acc, _ = validate(X_val_tensor, Y_val_tensor)\n",
        "    scheduler.step(val_loss)\n",
        "\n",
        "    losses.append(epoch_loss)\n",
        "    val_losses.append(val_loss)\n",
        "    print('')\n",
        "    print(f\"Epoch {epoch} --> loss:{epoch_loss:.4f}, acc:{epoch_acc:.2f}%, val_loss:{val_loss:.4f}, val_acc:{val_acc:.2f}%\")\n"
      ],
      "metadata": {
        "colab": {
          "base_uri": "https://localhost:8080/"
        },
        "id": "9evr6gJJTC9I",
        "outputId": "0ab3c200-4ce0-45cc-ba41-06db143ce041"
      },
      "execution_count": 121,
      "outputs": [
        {
          "output_type": "stream",
          "name": "stdout",
          "text": [
            "Selected device is cuda\n",
            "Number of trainable params:  260452\n"
          ]
        },
        {
          "output_type": "stream",
          "name": "stderr",
          "text": [
            "/usr/local/lib/python3.10/dist-packages/torch/optim/lr_scheduler.py:28: UserWarning: The verbose parameter is deprecated. Please use get_last_lr() to access the learning rate.\n",
            "  warnings.warn(\"The verbose parameter is deprecated. Please use get_last_lr() \"\n"
          ]
        },
        {
          "output_type": "stream",
          "name": "stdout",
          "text": [
            " Epoch 0: iteration 144/145\n",
            "Epoch 0 --> loss:1.2608, acc:41.09%, val_loss:0.9663, val_acc:48.97%\n",
            " Epoch 1: iteration 144/145\n",
            "Epoch 1 --> loss:0.9195, acc:53.24%, val_loss:0.8120, val_acc:61.90%\n",
            " Epoch 2: iteration 144/145\n",
            "Epoch 2 --> loss:0.8178, acc:60.72%, val_loss:0.8173, val_acc:63.97%\n",
            " Epoch 3: iteration 144/145\n",
            "Epoch 3 --> loss:0.7426, acc:65.65%, val_loss:0.7237, val_acc:63.97%\n",
            " Epoch 4: iteration 144/145\n",
            "Epoch 4 --> loss:0.6973, acc:67.91%, val_loss:0.6398, val_acc:74.66%\n",
            " Epoch 5: iteration 144/145\n",
            "Epoch 5 --> loss:0.6270, acc:71.87%, val_loss:0.5605, val_acc:77.59%\n",
            " Epoch 6: iteration 144/145\n",
            "Epoch 6 --> loss:0.5987, acc:73.06%, val_loss:0.5454, val_acc:78.10%\n",
            " Epoch 7: iteration 144/145\n",
            "Epoch 7 --> loss:0.5604, acc:75.62%, val_loss:0.5222, val_acc:76.55%\n",
            " Epoch 8: iteration 144/145\n",
            "Epoch 8 --> loss:0.5442, acc:76.61%, val_loss:0.6290, val_acc:70.17%\n",
            " Epoch 9: iteration 144/145\n",
            "Epoch 9 --> loss:0.5100, acc:78.18%, val_loss:0.5995, val_acc:75.52%\n",
            " Epoch 10: iteration 144/145\n",
            "Epoch 10 --> loss:0.4881, acc:79.78%, val_loss:0.5486, val_acc:75.52%\n",
            " Epoch 11: iteration 144/145\n",
            "Epoch 11 --> loss:0.4279, acc:82.04%, val_loss:0.6142, val_acc:71.55%\n",
            " Epoch 12: iteration 144/145\n",
            "Epoch 12 --> loss:0.4342, acc:81.71%, val_loss:0.4298, val_acc:83.45%\n",
            " Epoch 13: iteration 144/145\n",
            "Epoch 13 --> loss:0.3792, acc:84.19%, val_loss:0.4279, val_acc:81.38%\n",
            " Epoch 14: iteration 144/145\n",
            "Epoch 14 --> loss:0.4031, acc:83.14%, val_loss:0.4295, val_acc:82.24%\n",
            " Epoch 15: iteration 144/145\n",
            "Epoch 15 --> loss:0.3784, acc:84.54%, val_loss:0.4419, val_acc:82.24%\n",
            " Epoch 16: iteration 144/145\n",
            "Epoch 16 --> loss:0.3466, acc:85.83%, val_loss:0.4335, val_acc:82.76%\n",
            " Epoch 17: iteration 144/145\n",
            "Epoch 17 --> loss:0.3254, acc:86.99%, val_loss:0.3883, val_acc:85.34%\n",
            " Epoch 18: iteration 144/145\n",
            "Epoch 18 --> loss:0.3195, acc:87.10%, val_loss:0.4686, val_acc:81.72%\n",
            " Epoch 19: iteration 144/145\n",
            "Epoch 19 --> loss:0.3551, acc:85.74%, val_loss:0.3960, val_acc:83.79%\n",
            " Epoch 20: iteration 144/145\n",
            "Epoch 20 --> loss:0.3185, acc:87.72%, val_loss:0.3514, val_acc:86.55%\n",
            " Epoch 21: iteration 144/145\n",
            "Epoch 21 --> loss:0.3064, acc:88.02%, val_loss:0.4125, val_acc:84.31%\n",
            " Epoch 22: iteration 144/145\n",
            "Epoch 22 --> loss:0.3011, acc:88.56%, val_loss:0.4597, val_acc:81.55%\n",
            " Epoch 23: iteration 144/145\n",
            "Epoch 23 --> loss:0.2835, acc:89.27%, val_loss:0.3596, val_acc:86.38%\n",
            " Epoch 24: iteration 144/145\n",
            "Epoch 24 --> loss:0.2624, acc:89.96%, val_loss:0.3929, val_acc:85.52%\n",
            " Epoch 25: iteration 144/145\n",
            "Epoch 25 --> loss:0.2703, acc:89.36%, val_loss:0.3401, val_acc:88.10%\n",
            " Epoch 26: iteration 144/145\n",
            "Epoch 26 --> loss:0.2534, acc:90.33%, val_loss:0.3119, val_acc:88.62%\n",
            " Epoch 27: iteration 144/145\n",
            "Epoch 27 --> loss:0.2316, acc:91.58%, val_loss:0.3621, val_acc:87.41%\n",
            " Epoch 28: iteration 144/145\n",
            "Epoch 28 --> loss:0.2347, acc:91.08%, val_loss:0.3117, val_acc:87.93%\n",
            " Epoch 29: iteration 144/145\n",
            "Epoch 29 --> loss:0.2049, acc:92.68%, val_loss:0.3480, val_acc:85.00%\n",
            " Epoch 30: iteration 144/145\n",
            "Epoch 30 --> loss:0.2359, acc:90.95%, val_loss:0.3607, val_acc:87.76%\n",
            " Epoch 31: iteration 144/145\n",
            "Epoch 31 --> loss:0.2230, acc:91.66%, val_loss:0.3919, val_acc:85.86%\n",
            " Epoch 32: iteration 144/145\n",
            "Epoch 32 --> loss:0.2378, acc:90.80%, val_loss:0.3032, val_acc:88.45%\n",
            " Epoch 33: iteration 144/145\n",
            "Epoch 33 --> loss:0.2252, acc:91.02%, val_loss:0.3173, val_acc:89.48%\n",
            " Epoch 34: iteration 144/145\n",
            "Epoch 34 --> loss:0.2126, acc:92.38%, val_loss:0.2763, val_acc:90.69%\n",
            " Epoch 35: iteration 144/145\n",
            "Epoch 35 --> loss:0.1788, acc:93.41%, val_loss:0.3982, val_acc:84.66%\n",
            " Epoch 36: iteration 144/145\n",
            "Epoch 36 --> loss:0.2027, acc:91.99%, val_loss:0.4097, val_acc:87.07%\n",
            " Epoch 37: iteration 144/145\n",
            "Epoch 37 --> loss:0.1792, acc:93.26%, val_loss:0.3541, val_acc:85.69%\n",
            " Epoch 38: iteration 144/145\n",
            "Epoch 38 --> loss:0.1936, acc:92.53%, val_loss:0.2767, val_acc:90.00%\n",
            " Epoch 39: iteration 144/145\n",
            "Epoch 39 --> loss:0.1858, acc:92.87%, val_loss:0.3529, val_acc:88.45%\n",
            " Epoch 40: iteration 144/145\n",
            "Epoch 40 --> loss:0.1637, acc:93.95%, val_loss:0.3184, val_acc:88.10%\n",
            " Epoch 41: iteration 144/145\n",
            "Epoch 41 --> loss:0.0937, acc:97.07%, val_loss:0.2207, val_acc:93.28%\n",
            " Epoch 42: iteration 144/145\n",
            "Epoch 42 --> loss:0.0654, acc:98.51%, val_loss:0.2212, val_acc:93.79%\n",
            " Epoch 43: iteration 144/145\n",
            "Epoch 43 --> loss:0.0550, acc:98.99%, val_loss:0.2122, val_acc:94.48%\n",
            " Epoch 44: iteration 144/145\n",
            "Epoch 44 --> loss:0.0496, acc:98.92%, val_loss:0.2128, val_acc:94.31%\n",
            " Epoch 45: iteration 144/145\n",
            "Epoch 45 --> loss:0.0475, acc:98.99%, val_loss:0.2041, val_acc:95.17%\n",
            " Epoch 46: iteration 144/145\n",
            "Epoch 46 --> loss:0.0458, acc:99.10%, val_loss:0.1966, val_acc:95.00%\n",
            " Epoch 47: iteration 144/145\n",
            "Epoch 47 --> loss:0.0400, acc:99.29%, val_loss:0.2044, val_acc:94.14%\n",
            " Epoch 48: iteration 144/145\n",
            "Epoch 48 --> loss:0.0399, acc:99.29%, val_loss:0.1886, val_acc:94.83%\n",
            " Epoch 49: iteration 144/145\n",
            "Epoch 49 --> loss:0.0373, acc:99.48%, val_loss:0.1910, val_acc:95.17%\n",
            " Epoch 50: iteration 144/145\n",
            "Epoch 50 --> loss:0.0351, acc:99.46%, val_loss:0.2086, val_acc:94.31%\n",
            " Epoch 51: iteration 144/145\n",
            "Epoch 51 --> loss:0.0356, acc:99.40%, val_loss:0.1931, val_acc:95.00%\n",
            " Epoch 52: iteration 144/145\n",
            "Epoch 52 --> loss:0.0341, acc:99.57%, val_loss:0.1825, val_acc:95.52%\n",
            " Epoch 53: iteration 144/145\n",
            "Epoch 53 --> loss:0.0337, acc:99.44%, val_loss:0.1802, val_acc:95.69%\n",
            " Epoch 54: iteration 144/145\n",
            "Epoch 54 --> loss:0.0308, acc:99.53%, val_loss:0.1830, val_acc:95.00%\n",
            " Epoch 55: iteration 144/145\n",
            "Epoch 55 --> loss:0.0322, acc:99.50%, val_loss:0.1822, val_acc:95.34%\n",
            " Epoch 56: iteration 144/145\n",
            "Epoch 56 --> loss:0.0306, acc:99.57%, val_loss:0.1857, val_acc:95.34%\n",
            " Epoch 57: iteration 144/145\n",
            "Epoch 57 --> loss:0.0305, acc:99.55%, val_loss:0.1826, val_acc:95.34%\n",
            " Epoch 58: iteration 144/145\n",
            "Epoch 58 --> loss:0.0284, acc:99.66%, val_loss:0.1781, val_acc:95.86%\n",
            " Epoch 59: iteration 144/145\n",
            "Epoch 59 --> loss:0.0296, acc:99.70%, val_loss:0.1729, val_acc:95.86%\n",
            " Epoch 60: iteration 144/145\n",
            "Epoch 60 --> loss:0.0287, acc:99.61%, val_loss:0.1679, val_acc:95.69%\n",
            " Epoch 61: iteration 144/145\n",
            "Epoch 61 --> loss:0.0275, acc:99.63%, val_loss:0.1789, val_acc:95.52%\n",
            " Epoch 62: iteration 144/145\n",
            "Epoch 62 --> loss:0.0275, acc:99.68%, val_loss:0.1694, val_acc:96.38%\n",
            " Epoch 63: iteration 144/145\n",
            "Epoch 63 --> loss:0.0276, acc:99.72%, val_loss:0.1730, val_acc:95.69%\n",
            " Epoch 64: iteration 144/145\n",
            "Epoch 64 --> loss:0.0273, acc:99.61%, val_loss:0.1776, val_acc:95.69%\n",
            " Epoch 65: iteration 144/145\n",
            "Epoch 65 --> loss:0.0245, acc:99.76%, val_loss:0.1644, val_acc:95.69%\n",
            " Epoch 66: iteration 144/145\n",
            "Epoch 66 --> loss:0.0246, acc:99.76%, val_loss:0.1734, val_acc:95.86%\n",
            " Epoch 67: iteration 144/145\n",
            "Epoch 67 --> loss:0.0284, acc:99.44%, val_loss:0.1700, val_acc:96.03%\n",
            " Epoch 68: iteration 144/145\n",
            "Epoch 68 --> loss:0.0268, acc:99.72%, val_loss:0.1757, val_acc:95.34%\n",
            " Epoch 69: iteration 144/145\n",
            "Epoch 69 --> loss:0.0250, acc:99.83%, val_loss:0.1704, val_acc:95.86%\n",
            " Epoch 70: iteration 144/145\n",
            "Epoch 70 --> loss:0.0240, acc:99.74%, val_loss:0.1641, val_acc:96.03%\n",
            " Epoch 71: iteration 144/145\n",
            "Epoch 71 --> loss:0.0247, acc:99.70%, val_loss:0.1607, val_acc:96.03%\n",
            " Epoch 72: iteration 144/145\n",
            "Epoch 72 --> loss:0.0250, acc:99.70%, val_loss:0.1717, val_acc:96.21%\n",
            " Epoch 73: iteration 144/145\n",
            "Epoch 73 --> loss:0.0234, acc:99.85%, val_loss:0.1649, val_acc:96.03%\n",
            " Epoch 74: iteration 144/145\n",
            "Epoch 74 --> loss:0.0230, acc:99.72%, val_loss:0.1589, val_acc:96.38%\n",
            " Epoch 75: iteration 144/145\n",
            "Epoch 75 --> loss:0.0223, acc:99.78%, val_loss:0.1757, val_acc:95.86%\n",
            " Epoch 76: iteration 144/145\n",
            "Epoch 76 --> loss:0.0219, acc:99.81%, val_loss:0.1748, val_acc:96.03%\n",
            " Epoch 77: iteration 144/145\n",
            "Epoch 77 --> loss:0.0230, acc:99.76%, val_loss:0.1720, val_acc:96.38%\n",
            " Epoch 78: iteration 144/145\n",
            "Epoch 78 --> loss:0.0221, acc:99.68%, val_loss:0.1693, val_acc:96.21%\n",
            " Epoch 79: iteration 144/145\n",
            "Epoch 79 --> loss:0.0231, acc:99.83%, val_loss:0.1731, val_acc:95.69%\n",
            " Epoch 80: iteration 144/145\n",
            "Epoch 80 --> loss:0.0218, acc:99.81%, val_loss:0.1664, val_acc:96.03%\n",
            " Epoch 81: iteration 144/145\n",
            "Epoch 81 --> loss:0.0200, acc:99.83%, val_loss:0.1647, val_acc:96.21%\n",
            " Epoch 82: iteration 144/145\n",
            "Epoch 82 --> loss:0.0197, acc:99.89%, val_loss:0.1658, val_acc:96.21%\n",
            " Epoch 83: iteration 144/145\n",
            "Epoch 83 --> loss:0.0195, acc:99.85%, val_loss:0.1668, val_acc:96.21%\n",
            " Epoch 84: iteration 144/145\n",
            "Epoch 84 --> loss:0.0190, acc:99.89%, val_loss:0.1650, val_acc:96.21%\n",
            " Epoch 85: iteration 144/145\n",
            "Epoch 85 --> loss:0.0198, acc:99.85%, val_loss:0.1641, val_acc:96.21%\n",
            " Epoch 86: iteration 144/145\n",
            "Epoch 86 --> loss:0.0199, acc:99.81%, val_loss:0.1662, val_acc:96.21%\n",
            " Epoch 87: iteration 144/145\n",
            "Epoch 87 --> loss:0.0192, acc:99.85%, val_loss:0.1652, val_acc:96.21%\n",
            " Epoch 88: iteration 144/145\n",
            "Epoch 88 --> loss:0.0186, acc:99.85%, val_loss:0.1655, val_acc:96.21%\n",
            " Epoch 89: iteration 144/145\n",
            "Epoch 89 --> loss:0.0177, acc:99.89%, val_loss:0.1666, val_acc:96.21%\n",
            " Epoch 90: iteration 144/145\n",
            "Epoch 90 --> loss:0.0183, acc:99.85%, val_loss:0.1668, val_acc:96.21%\n",
            " Epoch 91: iteration 144/145\n",
            "Epoch 91 --> loss:0.0194, acc:99.83%, val_loss:0.1662, val_acc:96.21%\n",
            " Epoch 92: iteration 144/145\n",
            "Epoch 92 --> loss:0.0188, acc:99.89%, val_loss:0.1667, val_acc:96.21%\n",
            " Epoch 93: iteration 144/145\n",
            "Epoch 93 --> loss:0.0185, acc:99.83%, val_loss:0.1659, val_acc:96.21%\n",
            " Epoch 94: iteration 144/145\n",
            "Epoch 94 --> loss:0.0195, acc:99.81%, val_loss:0.1668, val_acc:96.21%\n",
            " Epoch 95: iteration 144/145\n",
            "Epoch 95 --> loss:0.0188, acc:99.87%, val_loss:0.1670, val_acc:96.21%\n",
            " Epoch 96: iteration 144/145\n",
            "Epoch 96 --> loss:0.0179, acc:99.89%, val_loss:0.1664, val_acc:96.21%\n",
            " Epoch 97: iteration 144/145\n",
            "Epoch 97 --> loss:0.0193, acc:99.91%, val_loss:0.1675, val_acc:96.21%\n",
            " Epoch 98: iteration 144/145\n",
            "Epoch 98 --> loss:0.0186, acc:99.87%, val_loss:0.1660, val_acc:96.21%\n",
            " Epoch 99: iteration 144/145\n",
            "Epoch 99 --> loss:0.0194, acc:99.83%, val_loss:0.1657, val_acc:96.21%\n"
          ]
        }
      ]
    },
    {
      "cell_type": "code",
      "source": [
        "X_test_tensor = torch.tensor(X_test,device=device).float()\n",
        "Y_test_tensor = torch.tensor(Y_test,dtype=torch.long,device=device)\n",
        "test_loss, test_acc, predictions = validate(X_test_tensor,Y_test_tensor)\n",
        "print(f'Test loss is {test_loss:.3f}')\n",
        "print(f'Test accuracy is {test_acc:.2f}%')"
      ],
      "metadata": {
        "colab": {
          "base_uri": "https://localhost:8080/"
        },
        "id": "qFOiTUchTE7O",
        "outputId": "2629f8ee-f7fc-45e2-8e6f-956e01a4ff79"
      },
      "execution_count": 122,
      "outputs": [
        {
          "output_type": "stream",
          "name": "stdout",
          "text": [
            "Test loss is 0.112\n",
            "Test accuracy is 96.56%\n"
          ]
        }
      ]
    },
    {
      "cell_type": "code",
      "source": [
        "SAVE_PATH = os.path.join(os.getcwd(),'models')\n",
        "os.makedirs('models',exist_ok=True)\n",
        "torch.save(model.state_dict(),os.path.join(SAVE_PATH,'Parallel_Cnn_Attention_LSTM3.pt'))\n",
        "print('Model is saved to {}'.format(os.path.join(SAVE_PATH,'Parallel_Cnn_Attention_LSTM3.pt')))"
      ],
      "metadata": {
        "colab": {
          "base_uri": "https://localhost:8080/"
        },
        "id": "pEs05NxjYEiH",
        "outputId": "6313f08e-0330-4518-d59c-c10f89342fdd"
      },
      "execution_count": 59,
      "outputs": [
        {
          "output_type": "stream",
          "name": "stdout",
          "text": [
            "Model is saved to /content/models/Parallel_Cnn_Attention_LSTM3.pt\n"
          ]
        }
      ]
    },
    {
      "cell_type": "code",
      "source": [
        "if isinstance(predictions, torch.Tensor):\n",
        "    predictions = predictions.cpu().numpy()\n",
        "if isinstance(Y_test_tensor, torch.Tensor):\n",
        "    Y_test = Y_test_tensor.cpu().numpy()\n",
        "else:\n",
        "    Y_test = Y_test_tensor\n",
        "\n",
        "# Define the target names for the classification report\n",
        "EMOTIONS = [0, 1, 2]  # This should be a list of integers representing your classes\n",
        "EMOTION_NAMES = {0: 'low', 1: 'neutral', 2: 'high'}\n",
        "target_names = [EMOTION_NAMES[emotion] for emotion in EMOTIONS]\n",
        "\n",
        "# Generate the classification report\n",
        "report = classification_report(Y_test, predictions, target_names=target_names)\n",
        "print(\"\\nClassification Report:\\n\")\n",
        "print(report)"
      ],
      "metadata": {
        "colab": {
          "base_uri": "https://localhost:8080/"
        },
        "id": "MyeJRPyAph9o",
        "outputId": "d997c89c-b7ee-42f5-885b-871c752de0fa"
      },
      "execution_count": 123,
      "outputs": [
        {
          "output_type": "stream",
          "name": "stdout",
          "text": [
            "\n",
            "Classification Report:\n",
            "\n",
            "              precision    recall  f1-score   support\n",
            "\n",
            "         low       0.98      0.97      0.97       176\n",
            "     neutral       0.94      0.97      0.95       202\n",
            "        high       0.98      0.97      0.97       204\n",
            "\n",
            "    accuracy                           0.97       582\n",
            "   macro avg       0.97      0.97      0.97       582\n",
            "weighted avg       0.97      0.97      0.97       582\n",
            "\n"
          ]
        }
      ]
    },
    {
      "cell_type": "code",
      "source": [
        "# Generate the confusion matrix\n",
        "import seaborn as sns\n",
        "\n",
        "conf_matrix = confusion_matrix(Y_test, predictions)\n",
        "\n",
        "# Plot the confusion matrix\n",
        "plt.figure(figsize=(10, 8))\n",
        "sns.heatmap(conf_matrix, annot=True, fmt=\"d\", cmap=\"Blues\", xticklabels=EMOTIONS, yticklabels=EMOTIONS)\n",
        "plt.xlabel(\"Predicted\")\n",
        "plt.ylabel(\"True\")\n",
        "plt.title(\"Confusion Matrix\")\n",
        "plt.show()"
      ],
      "metadata": {
        "colab": {
          "base_uri": "https://localhost:8080/",
          "height": 718
        },
        "id": "BYvhZmY7tV5u",
        "outputId": "6af6f6b2-afb5-4eaa-f954-7b41b054a6b5"
      },
      "execution_count": 124,
      "outputs": [
        {
          "output_type": "display_data",
          "data": {
            "text/plain": [
              "<Figure size 1000x800 with 2 Axes>"
            ],
            "image/png": "[encoded data removed]"
          },
          "metadata": {}
        }
      ]
    },
    {
      "cell_type": "code",
      "source": [],
      "metadata": {
        "id": "C1Cw-HY6tYtG"
      },
      "execution_count": null,
      "outputs": []
    }
  ]
}