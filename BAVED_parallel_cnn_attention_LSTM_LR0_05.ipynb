{
  "nbformat": 4,
  "nbformat_minor": 0,
  "metadata": {
    "colab": {
      "provenance": [],
      "gpuType": "T4"
    },
    "kernelspec": {
      "name": "python3",
      "display_name": "Python 3"
    },
    "language_info": {
      "name": "python"
    },
    "accelerator": "GPU"
  },
  "cells": [
    {
      "cell_type": "code",
      "execution_count": 3,
      "metadata": {
        "id": "FL92Zt_qRUBG"
      },
      "outputs": [],
      "source": [
        "import numpy as np\n",
        "import pandas as pd\n",
        "import os\n",
        "import librosa\n",
        "import librosa.display\n",
        "import IPython\n",
        "from IPython.display import Audio\n",
        "from IPython.display import Image\n",
        "import matplotlib.pyplot as plt\n",
        "from torch.optim.lr_scheduler import ReduceLROnPlateau\n",
        "import re\n",
        "from pydub import AudioSegment\n",
        "import torch\n",
        "import torch.nn as nn\n",
        "from google.colab import drive\n",
        "from sklearn.metrics import classification_report\n",
        "from sklearn.metrics import confusion_matrix"
      ]
    },
    {
      "cell_type": "code",
      "source": [
        "# Define the EMOTIONS dictionary\n",
        "EMOTIONS = {0: 'low', 1: 'neutral', 2: 'high'}\n",
        "parent_folder = '/content/drive/MyDrive/Colab Notebooks/recordings'\n",
        "SAMPLE_RATE = 16000\n",
        "drive.mount('/content/drive')\n",
        "\n",
        "\n",
        "# Initialize an empty list to store the dataset rows\n",
        "data = []\n",
        "\n",
        "# Iterate over each folder (0-6)\n",
        "for folder_name in os.listdir(parent_folder):\n",
        "    folder_path = os.path.join(parent_folder, folder_name)\n",
        "\n",
        "    # Iterate over each audio file in the folder\n",
        "    for audio_file in os.listdir(folder_path):\n",
        "        file_path = os.path.join(folder_path, audio_file)\n",
        "\n",
        "        # Extract information from the filename\n",
        "        speaker_id, speaker_gender, speaker_age, spoken_word, spoken_emotion, record_id = audio_file.split('-')\n",
        "        record_id = re.sub(r'\\D', '', record_id)  # Remove non-numeric characters\n",
        "        audio = AudioSegment.from_file(file_path)\n",
        "\n",
        "        # Append the extracted information to the data list\n",
        "        data.append({\n",
        "            \"Name\": audio_file,\n",
        "            \"Emotion\": int(spoken_emotion),\n",
        "            \"Emotion_Label\": EMOTIONS[int(spoken_emotion)],\n",
        "            \"Gender\": speaker_gender,\n",
        "            \"Speaker_ID\": int(speaker_id),\n",
        "            \"Speaker_Age\": int(speaker_age),\n",
        "            \"Spoken_Word\": int(spoken_word),\n",
        "            \"Record_ID\": int(record_id),\n",
        "            \"Path\": file_path\n",
        "        })\n",
        "\n",
        "\n"
      ],
      "metadata": {
        "colab": {
          "base_uri": "https://localhost:8080/"
        },
        "id": "aPANDkluRVJL",
        "outputId": "a11db697-8d26-4f4a-fcab-635a624aa37f"
      },
      "execution_count": 4,
      "outputs": [
        {
          "output_type": "stream",
          "name": "stdout",
          "text": [
            "Mounted at /content/drive\n"
          ]
        }
      ]
    },
    {
      "cell_type": "code",
      "source": [
        "Data = pd.DataFrame(data)\n",
        "Data.head()"
      ],
      "metadata": {
        "colab": {
          "base_uri": "https://localhost:8080/",
          "height": 206
        },
        "id": "K1yZC4VvR24k",
        "outputId": "ea9a4c31-b52a-401e-9615-b0185e77086e"
      },
      "execution_count": 5,
      "outputs": [
        {
          "output_type": "execute_result",
          "data": {
            "text/plain": [
              "                 Name  Emotion Emotion_Label Gender  Speaker_ID  Speaker_Age  \\\n",
              "0   10-f-20-0-1-0.wav        1       neutral      f          10           20   \n",
              "1  0-m-21-0-2-106.wav        2          high      m           0           21   \n",
              "2  0-m-21-0-1-105.wav        1       neutral      m           0           21   \n",
              "3  1-m-20-0-1-107.wav        1       neutral      m           1           20   \n",
              "4  102-f-40-0-2-5.wav        2          high      f         102           40   \n",
              "\n",
              "   Spoken_Word  Record_ID                                               Path  \n",
              "0            0          0  /content/drive/MyDrive/Colab Notebooks/recordi...  \n",
              "1            0        106  /content/drive/MyDrive/Colab Notebooks/recordi...  \n",
              "2            0        105  /content/drive/MyDrive/Colab Notebooks/recordi...  \n",
              "3            0        107  /content/drive/MyDrive/Colab Notebooks/recordi...  \n",
              "4            0          5  /content/drive/MyDrive/Colab Notebooks/recordi...  "
            ],
            "text/html": [
              "\n",
              "  <div id=\"df-46c0d6b2-5e2c-47aa-b59f-c5c38d4ef840\" class=\"colab-df-container\">\n",
              "    <div>\n",
              "<style scoped>\n",
              "    .dataframe tbody tr th:only-of-type {\n",
              "        vertical-align: middle;\n",
              "    }\n",
              "\n",
              "    .dataframe tbody tr th {\n",
              "        vertical-align: top;\n",
              "    }\n",
              "\n",
              "    .dataframe thead th {\n",
              "        text-align: right;\n",
              "    }\n",
              "</style>\n",
              "<table border=\"1\" class=\"dataframe\">\n",
              "  <thead>\n",
              "    <tr style=\"text-align: right;\">\n",
              "      <th></th>\n",
              "      <th>Name</th>\n",
              "      <th>Emotion</th>\n",
              "      <th>Emotion_Label</th>\n",
              "      <th>Gender</th>\n",
              "      <th>Speaker_ID</th>\n",
              "      <th>Speaker_Age</th>\n",
              "      <th>Spoken_Word</th>\n",
              "      <th>Record_ID</th>\n",
              "      <th>Path</th>\n",
              "    </tr>\n",
              "  </thead>\n",
              "  <tbody>\n",
              "    <tr>\n",
              "      <th>0</th>\n",
              "      <td>10-f-20-0-1-0.wav</td>\n",
              "      <td>1</td>\n",
              "      <td>neutral</td>\n",
              "      <td>f</td>\n",
              "      <td>10</td>\n",
              "      <td>20</td>\n",
              "      <td>0</td>\n",
              "      <td>0</td>\n",
              "      <td>/content/drive/MyDrive/Colab Notebooks/recordi...</td>\n",
              "    </tr>\n",
              "    <tr>\n",
              "      <th>1</th>\n",
              "      <td>0-m-21-0-2-106.wav</td>\n",
              "      <td>2</td>\n",
              "      <td>high</td>\n",
              "      <td>m</td>\n",
              "      <td>0</td>\n",
              "      <td>21</td>\n",
              "      <td>0</td>\n",
              "      <td>106</td>\n",
              "      <td>/content/drive/MyDrive/Colab Notebooks/recordi...</td>\n",
              "    </tr>\n",
              "    <tr>\n",
              "      <th>2</th>\n",
              "      <td>0-m-21-0-1-105.wav</td>\n",
              "      <td>1</td>\n",
              "      <td>neutral</td>\n",
              "      <td>m</td>\n",
              "      <td>0</td>\n",
              "      <td>21</td>\n",
              "      <td>0</td>\n",
              "      <td>105</td>\n",
              "      <td>/content/drive/MyDrive/Colab Notebooks/recordi...</td>\n",
              "    </tr>\n",
              "    <tr>\n",
              "      <th>3</th>\n",
              "      <td>1-m-20-0-1-107.wav</td>\n",
              "      <td>1</td>\n",
              "      <td>neutral</td>\n",
              "      <td>m</td>\n",
              "      <td>1</td>\n",
              "      <td>20</td>\n",
              "      <td>0</td>\n",
              "      <td>107</td>\n",
              "      <td>/content/drive/MyDrive/Colab Notebooks/recordi...</td>\n",
              "    </tr>\n",
              "    <tr>\n",
              "      <th>4</th>\n",
              "      <td>102-f-40-0-2-5.wav</td>\n",
              "      <td>2</td>\n",
              "      <td>high</td>\n",
              "      <td>f</td>\n",
              "      <td>102</td>\n",
              "      <td>40</td>\n",
              "      <td>0</td>\n",
              "      <td>5</td>\n",
              "      <td>/content/drive/MyDrive/Colab Notebooks/recordi...</td>\n",
              "    </tr>\n",
              "  </tbody>\n",
              "</table>\n",
              "</div>\n",
              "    <div class=\"colab-df-buttons\">\n",
              "\n",
              "  <div class=\"colab-df-container\">\n",
              "    <button class=\"colab-df-convert\" onclick=\"convertToInteractive('df-46c0d6b2-5e2c-47aa-b59f-c5c38d4ef840')\"\n",
              "            title=\"Convert this dataframe to an interactive table.\"\n",
              "            style=\"display:none;\">\n",
              "\n",
              "  <svg xmlns=\"http://www.w3.org/2000/svg\" height=\"24px\" viewBox=\"0 -960 960 960\">\n",
              "    <path d=\"M120-120v-720h720v720H120Zm60-500h600v-160H180v160Zm220 220h160v-160H400v160Zm0 220h160v-160H400v160ZM180-400h160v-160H180v160Zm440 0h160v-160H620v160ZM180-180h160v-160H180v160Zm440 0h160v-160H620v160Z\"/>\n",
              "  </svg>\n",
              "    </button>\n",
              "\n",
              "  <style>\n",
              "    .colab-df-container {\n",
              "      display:flex;\n",
              "      gap: 12px;\n",
              "    }\n",
              "\n",
              "    .colab-df-convert {\n",
              "      background-color: #E8F0FE;\n",
              "      border: none;\n",
              "      border-radius: 50%;\n",
              "      cursor: pointer;\n",
              "      display: none;\n",
              "      fill: #1967D2;\n",
              "      height: 32px;\n",
              "      padding: 0 0 0 0;\n",
              "      width: 32px;\n",
              "    }\n",
              "\n",
              "    .colab-df-convert:hover {\n",
              "      background-color: #E2EBFA;\n",
              "      box-shadow: 0px 1px 2px rgba(60, 64, 67, 0.3), 0px 1px 3px 1px rgba(60, 64, 67, 0.15);\n",
              "      fill: #174EA6;\n",
              "    }\n",
              "\n",
              "    .colab-df-buttons div {\n",
              "      margin-bottom: 4px;\n",
              "    }\n",
              "\n",
              "    [theme=dark] .colab-df-convert {\n",
              "      background-color: #3B4455;\n",
              "      fill: #D2E3FC;\n",
              "    }\n",
              "\n",
              "    [theme=dark] .colab-df-convert:hover {\n",
              "      background-color: #434B5C;\n",
              "      box-shadow: 0px 1px 3px 1px rgba(0, 0, 0, 0.15);\n",
              "      filter: drop-shadow(0px 1px 2px rgba(0, 0, 0, 0.3));\n",
              "      fill: #FFFFFF;\n",
              "    }\n",
              "  </style>\n",
              "\n",
              "    <script>\n",
              "      const buttonEl =\n",
              "        document.querySelector('#df-46c0d6b2-5e2c-47aa-b59f-c5c38d4ef840 button.colab-df-convert');\n",
              "      buttonEl.style.display =\n",
              "        google.colab.kernel.accessAllowed ? 'block' : 'none';\n",
              "\n",
              "      async function convertToInteractive(key) {\n",
              "        const element = document.querySelector('#df-46c0d6b2-5e2c-47aa-b59f-c5c38d4ef840');\n",
              "        const dataTable =\n",
              "          await google.colab.kernel.invokeFunction('convertToInteractive',\n",
              "                                                    [key], {});\n",
              "        if (!dataTable) return;\n",
              "\n",
              "        const docLinkHtml = 'Like what you see? Visit the ' +\n",
              "          '<a target=\"_blank\" href=https://colab.research.google.com/notebooks/data_table.ipynb>data table notebook</a>'\n",
              "          + ' to learn more about interactive tables.';\n",
              "        element.innerHTML = '';\n",
              "        dataTable['output_type'] = 'display_data';\n",
              "        await google.colab.output.renderOutput(dataTable, element);\n",
              "        const docLink = document.createElement('div');\n",
              "        docLink.innerHTML = docLinkHtml;\n",
              "        element.appendChild(docLink);\n",
              "      }\n",
              "    </script>\n",
              "  </div>\n",
              "\n",
              "\n",
              "<div id=\"df-06d6649d-e0f5-411e-8d29-b60736c6a895\">\n",
              "  <button class=\"colab-df-quickchart\" onclick=\"quickchart('df-06d6649d-e0f5-411e-8d29-b60736c6a895')\"\n",
              "            title=\"Suggest charts\"\n",
              "            style=\"display:none;\">\n",
              "\n",
              "<svg xmlns=\"http://www.w3.org/2000/svg\" height=\"24px\"viewBox=\"0 0 24 24\"\n",
              "     width=\"24px\">\n",
              "    <g>\n",
              "        <path d=\"M19 3H5c-1.1 0-2 .9-2 2v14c0 1.1.9 2 2 2h14c1.1 0 2-.9 2-2V5c0-1.1-.9-2-2-2zM9 17H7v-7h2v7zm4 0h-2V7h2v10zm4 0h-2v-4h2v4z\"/>\n",
              "    </g>\n",
              "</svg>\n",
              "  </button>\n",
              "\n",
              "<style>\n",
              "  .colab-df-quickchart {\n",
              "      --bg-color: #E8F0FE;\n",
              "      --fill-color: #1967D2;\n",
              "      --hover-bg-color: #E2EBFA;\n",
              "      --hover-fill-color: #174EA6;\n",
              "      --disabled-fill-color: #AAA;\n",
              "      --disabled-bg-color: #DDD;\n",
              "  }\n",
              "\n",
              "  [theme=dark] .colab-df-quickchart {\n",
              "      --bg-color: #3B4455;\n",
              "      --fill-color: #D2E3FC;\n",
              "      --hover-bg-color: #434B5C;\n",
              "      --hover-fill-color: #FFFFFF;\n",
              "      --disabled-bg-color: #3B4455;\n",
              "      --disabled-fill-color: #666;\n",
              "  }\n",
              "\n",
              "  .colab-df-quickchart {\n",
              "    background-color: var(--bg-color);\n",
              "    border: none;\n",
              "    border-radius: 50%;\n",
              "    cursor: pointer;\n",
              "    display: none;\n",
              "    fill: var(--fill-color);\n",
              "    height: 32px;\n",
              "    padding: 0;\n",
              "    width: 32px;\n",
              "  }\n",
              "\n",
              "  .colab-df-quickchart:hover {\n",
              "    background-color: var(--hover-bg-color);\n",
              "    box-shadow: 0 1px 2px rgba(60, 64, 67, 0.3), 0 1px 3px 1px rgba(60, 64, 67, 0.15);\n",
              "    fill: var(--button-hover-fill-color);\n",
              "  }\n",
              "\n",
              "  .colab-df-quickchart-complete:disabled,\n",
              "  .colab-df-quickchart-complete:disabled:hover {\n",
              "    background-color: var(--disabled-bg-color);\n",
              "    fill: var(--disabled-fill-color);\n",
              "    box-shadow: none;\n",
              "  }\n",
              "\n",
              "  .colab-df-spinner {\n",
              "    border: 2px solid var(--fill-color);\n",
              "    border-color: transparent;\n",
              "    border-bottom-color: var(--fill-color);\n",
              "    animation:\n",
              "      spin 1s steps(1) infinite;\n",
              "  }\n",
              "\n",
              "  @keyframes spin {\n",
              "    0% {\n",
              "      border-color: transparent;\n",
              "      border-bottom-color: var(--fill-color);\n",
              "      border-left-color: var(--fill-color);\n",
              "    }\n",
              "    20% {\n",
              "      border-color: transparent;\n",
              "      border-left-color: var(--fill-color);\n",
              "      border-top-color: var(--fill-color);\n",
              "    }\n",
              "    30% {\n",
              "      border-color: transparent;\n",
              "      border-left-color: var(--fill-color);\n",
              "      border-top-color: var(--fill-color);\n",
              "      border-right-color: var(--fill-color);\n",
              "    }\n",
              "    40% {\n",
              "      border-color: transparent;\n",
              "      border-right-color: var(--fill-color);\n",
              "      border-top-color: var(--fill-color);\n",
              "    }\n",
              "    60% {\n",
              "      border-color: transparent;\n",
              "      border-right-color: var(--fill-color);\n",
              "    }\n",
              "    80% {\n",
              "      border-color: transparent;\n",
              "      border-right-color: var(--fill-color);\n",
              "      border-bottom-color: var(--fill-color);\n",
              "    }\n",
              "    90% {\n",
              "      border-color: transparent;\n",
              "      border-bottom-color: var(--fill-color);\n",
              "    }\n",
              "  }\n",
              "</style>\n",
              "\n",
              "  <script>\n",
              "    async function quickchart(key) {\n",
              "      const quickchartButtonEl =\n",
              "        document.querySelector('#' + key + ' button');\n",
              "      quickchartButtonEl.disabled = true;  // To prevent multiple clicks.\n",
              "      quickchartButtonEl.classList.add('colab-df-spinner');\n",
              "      try {\n",
              "        const charts = await google.colab.kernel.invokeFunction(\n",
              "            'suggestCharts', [key], {});\n",
              "      } catch (error) {\n",
              "        console.error('Error during call to suggestCharts:', error);\n",
              "      }\n",
              "      quickchartButtonEl.classList.remove('colab-df-spinner');\n",
              "      quickchartButtonEl.classList.add('colab-df-quickchart-complete');\n",
              "    }\n",
              "    (() => {\n",
              "      let quickchartButtonEl =\n",
              "        document.querySelector('#df-06d6649d-e0f5-411e-8d29-b60736c6a895 button');\n",
              "      quickchartButtonEl.style.display =\n",
              "        google.colab.kernel.accessAllowed ? 'block' : 'none';\n",
              "    })();\n",
              "  </script>\n",
              "</div>\n",
              "\n",
              "    </div>\n",
              "  </div>\n"
            ],
            "application/vnd.google.colaboratory.intrinsic+json": {
              "type": "dataframe",
              "variable_name": "Data",
              "summary": "{\n  \"name\": \"Data\",\n  \"rows\": 1935,\n  \"fields\": [\n    {\n      \"column\": \"Name\",\n      \"properties\": {\n        \"dtype\": \"string\",\n        \"num_unique_values\": 1935,\n        \"samples\": [\n          \"0-m-21-2-1-662.wav\",\n          \"0-m-21-3-1-921.wav\",\n          \"100-f-6-3-2-38.wav\"\n        ],\n        \"semantic_type\": \"\",\n        \"description\": \"\"\n      }\n    },\n    {\n      \"column\": \"Emotion\",\n      \"properties\": {\n        \"dtype\": \"number\",\n        \"std\": 0,\n        \"min\": 0,\n        \"max\": 2,\n        \"num_unique_values\": 3,\n        \"samples\": [\n          1,\n          2,\n          0\n        ],\n        \"semantic_type\": \"\",\n        \"description\": \"\"\n      }\n    },\n    {\n      \"column\": \"Emotion_Label\",\n      \"properties\": {\n        \"dtype\": \"category\",\n        \"num_unique_values\": 3,\n        \"samples\": [\n          \"neutral\",\n          \"high\",\n          \"low\"\n        ],\n        \"semantic_type\": \"\",\n        \"description\": \"\"\n      }\n    },\n    {\n      \"column\": \"Gender\",\n      \"properties\": {\n        \"dtype\": \"category\",\n        \"num_unique_values\": 2,\n        \"samples\": [\n          \"m\",\n          \"f\"\n        ],\n        \"semantic_type\": \"\",\n        \"description\": \"\"\n      }\n    },\n    {\n      \"column\": \"Speaker_ID\",\n      \"properties\": {\n        \"dtype\": \"number\",\n        \"std\": 19,\n        \"min\": 0,\n        \"max\": 103,\n        \"num_unique_values\": 60,\n        \"samples\": [\n          10,\n          101\n        ],\n        \"semantic_type\": \"\",\n        \"description\": \"\"\n      }\n    },\n    {\n      \"column\": \"Speaker_Age\",\n      \"properties\": {\n        \"dtype\": \"number\",\n        \"std\": 10,\n        \"min\": 5,\n        \"max\": 41,\n        \"num_unique_values\": 15,\n        \"samples\": [\n          17,\n          14\n        ],\n        \"semantic_type\": \"\",\n        \"description\": \"\"\n      }\n    },\n    {\n      \"column\": \"Spoken_Word\",\n      \"properties\": {\n        \"dtype\": \"number\",\n        \"std\": 1,\n        \"min\": 0,\n        \"max\": 6,\n        \"num_unique_values\": 7,\n        \"samples\": [\n          0,\n          6\n        ],\n        \"semantic_type\": \"\",\n        \"description\": \"\"\n      }\n    },\n    {\n      \"column\": \"Record_ID\",\n      \"properties\": {\n        \"dtype\": \"number\",\n        \"std\": 552,\n        \"min\": 0,\n        \"max\": 1850,\n        \"num_unique_values\": 1851,\n        \"samples\": [\n          76,\n          1426\n        ],\n        \"semantic_type\": \"\",\n        \"description\": \"\"\n      }\n    },\n    {\n      \"column\": \"Path\",\n      \"properties\": {\n        \"dtype\": \"string\",\n        \"num_unique_values\": 1935,\n        \"samples\": [\n          \"/content/drive/MyDrive/Colab Notebooks/recordings/2/0-m-21-2-1-662.wav\",\n          \"/content/drive/MyDrive/Colab Notebooks/recordings/3/0-m-21-3-1-921.wav\"\n        ],\n        \"semantic_type\": \"\",\n        \"description\": \"\"\n      }\n    }\n  ]\n}"
            }
          },
          "metadata": {},
          "execution_count": 5
        }
      ]
    },
    {
      "cell_type": "code",
      "source": [
        "fig = plt.figure()\n",
        "ax = fig.add_subplot(111)\n",
        "ax.bar(x=range(3), height=Data['Emotion'].value_counts())\n",
        "ax.set_xticks(ticks=range(3))\n",
        "ax.set_xticklabels([EMOTIONS[i] for i in EMOTIONS ],fontsize=10)\n",
        "ax.set_xlabel('Emotions')\n",
        "ax.set_ylabel('Number of examples')"
      ],
      "metadata": {
        "colab": {
          "base_uri": "https://localhost:8080/",
          "height": 466
        },
        "id": "JElxqspRR5-T",
        "outputId": "34a2c15e-fefc-4f1c-9422-ed21a3eef4c2"
      },
      "execution_count": 6,
      "outputs": [
        {
          "output_type": "execute_result",
          "data": {
            "text/plain": [
              "Text(0, 0.5, 'Number of examples')"
            ]
          },
          "metadata": {},
          "execution_count": 6
        },
        {
          "output_type": "display_data",
          "data": {
            "text/plain": [
              "<Figure size 640x480 with 1 Axes>"
            ],
            "image/png": "[encoded data removed]"
          },
          "metadata": {}
        }
      ]
    },
    {
      "cell_type": "code",
      "source": [
        "fig = plt.figure()\n",
        "ax = fig.add_subplot(111)\n",
        "counts = Data['Gender'].value_counts()\n",
        "ax.bar(x=[0,1], height=counts.values)\n",
        "ax.set_xticks(ticks=[0,1])\n",
        "ax.set_xticklabels(list(counts.index))\n",
        "ax.set_xlabel('Gender')\n",
        "ax.set_ylabel('Number of examples')"
      ],
      "metadata": {
        "colab": {
          "base_uri": "https://localhost:8080/",
          "height": 466
        },
        "id": "P-52shKeSLsS",
        "outputId": "401f5d60-7a1f-4629-ac59-d70b7866ae95"
      },
      "execution_count": 7,
      "outputs": [
        {
          "output_type": "execute_result",
          "data": {
            "text/plain": [
              "Text(0, 0.5, 'Number of examples')"
            ]
          },
          "metadata": {},
          "execution_count": 7
        },
        {
          "output_type": "display_data",
          "data": {
            "text/plain": [
              "<Figure size 640x480 with 1 Axes>"
            ],
            "image/png": "[encoded data removed]"
          },
          "metadata": {}
        }
      ]
    },
    {
      "cell_type": "code",
      "source": [
        "def getMELspectrogram(audio, sample_rate):\n",
        "    mel_spec = librosa.feature.melspectrogram(y=audio,\n",
        "                                              sr=sample_rate,\n",
        "                                              n_fft=1024,\n",
        "                                              win_length = 512,\n",
        "                                              window='hamming',\n",
        "                                              hop_length = 256,\n",
        "                                              n_mels=128,\n",
        "                                              fmax=sample_rate/2\n",
        "                                             )\n",
        "    mel_spec_db = librosa.power_to_db(mel_spec, ref=np.max)\n",
        "    return mel_spec_db"
      ],
      "metadata": {
        "id": "-BBpQZqXSNAy"
      },
      "execution_count": 8,
      "outputs": []
    },
    {
      "cell_type": "code",
      "source": [
        "audio, sample_rate = librosa.load(Data.loc[0,'Path'], duration=3, offset=0.5,sr=SAMPLE_RATE)\n",
        "signal = np.zeros((int(SAMPLE_RATE*3,)))\n",
        "signal[:len(audio)] = audio\n",
        "mel_spectrogram = getMELspectrogram(signal, SAMPLE_RATE)\n",
        "librosa.display.specshow(mel_spectrogram, y_axis='mel', x_axis='time')\n",
        "print('MEL spectrogram shape: ',mel_spectrogram.shape)"
      ],
      "metadata": {
        "colab": {
          "base_uri": "https://localhost:8080/",
          "height": 466
        },
        "id": "SFJ2TRt8SOJS",
        "outputId": "a692f0f8-21cd-46e4-c923-7d43fe6c9fec"
      },
      "execution_count": 9,
      "outputs": [
        {
          "output_type": "stream",
          "name": "stdout",
          "text": [
            "MEL spectrogram shape:  (128, 188)\n"
          ]
        },
        {
          "output_type": "display_data",
          "data": {
            "text/plain": [
              "<Figure size 640x480 with 1 Axes>"
            ],
            "image/png": "[encoded data removed]"
          },
          "metadata": {}
        }
      ]
    },
    {
      "cell_type": "code",
      "source": [
        "print(\"number of files is {}\".format(len(data)))"
      ],
      "metadata": {
        "colab": {
          "base_uri": "https://localhost:8080/"
        },
        "id": "X3XH4N-ASP2B",
        "outputId": "cb5b2bfa-db51-4f53-c358-7e6344424ac1"
      },
      "execution_count": 10,
      "outputs": [
        {
          "output_type": "stream",
          "name": "stdout",
          "text": [
            "number of files is 1935\n"
          ]
        }
      ]
    },
    {
      "cell_type": "code",
      "source": [
        "mel_spectrograms = []\n",
        "signals = []\n",
        "for i, file_path in enumerate(Data.Path):\n",
        "    audio, sample_rate = librosa.load(file_path, duration=3, offset=0.5, sr=SAMPLE_RATE)\n",
        "    signal = np.zeros((int(SAMPLE_RATE*3,)))\n",
        "    signal[:len(audio)] = audio\n",
        "    signals.append(signal)\n",
        "    mel_spectrogram = getMELspectrogram(signal, sample_rate=SAMPLE_RATE)\n",
        "    mel_spectrograms.append(mel_spectrogram)\n",
        "    print(\"\\r Processed {}/{} files\".format(i,len(Data)),end='')"
      ],
      "metadata": {
        "colab": {
          "base_uri": "https://localhost:8080/"
        },
        "id": "GQdoaYYBSXvO",
        "outputId": "e89c9590-2765-4462-925f-9be000606390"
      },
      "execution_count": 11,
      "outputs": [
        {
          "output_type": "stream",
          "name": "stdout",
          "text": [
            " Processed 1934/1935 files"
          ]
        }
      ]
    },
    {
      "cell_type": "code",
      "source": [
        "def addAWGN(signal, num_bits=16, augmented_num=2, snr_low=15, snr_high=30):\n",
        "    signal_len = len(signal)\n",
        "    # Generate White Gaussian noise\n",
        "    noise = np.random.normal(size=(augmented_num, signal_len))\n",
        "    # Normalize signal and noise\n",
        "    norm_constant = 2.0**(num_bits-1)\n",
        "    signal_norm = signal / norm_constant\n",
        "    noise_norm = noise / norm_constant\n",
        "    # Compute signal and noise power\n",
        "    s_power = np.sum(signal_norm ** 2) / signal_len\n",
        "    n_power = np.sum(noise_norm ** 2, axis=1) / signal_len\n",
        "    # Random SNR: Uniform [15, 30] in dB\n",
        "    target_snr = np.random.randint(snr_low, snr_high)\n",
        "    # Compute K (covariance matrix) for each noise\n",
        "    K = np.sqrt((s_power / n_power) * 10 ** (- target_snr / 10))\n",
        "    K = np.ones((signal_len, augmented_num)) * K\n",
        "    # Generate noisy signal\n",
        "    return signal + K.T * noise"
      ],
      "metadata": {
        "id": "UCNdUOaGSaHD"
      },
      "execution_count": 12,
      "outputs": []
    },
    {
      "cell_type": "code",
      "source": [
        "for i,signal in enumerate(signals):\n",
        "    augmented_signals = addAWGN(signal)\n",
        "    for j in range(augmented_signals.shape[0]):\n",
        "        mel_spectrogram = getMELspectrogram(augmented_signals[j,:], sample_rate=SAMPLE_RATE)\n",
        "        mel_spectrograms.append(mel_spectrogram)\n",
        "        Data = pd.concat([Data, Data.iloc[i:i+1]], ignore_index=True)\n",
        "    print(\"\\r Processed {}/{} files\".format(i,len(signals)),end='')"
      ],
      "metadata": {
        "colab": {
          "base_uri": "https://localhost:8080/"
        },
        "id": "oMixaOkXShBv",
        "outputId": "2232699e-4832-4f31-a526-be43b6cab3f1"
      },
      "execution_count": 13,
      "outputs": [
        {
          "output_type": "stream",
          "name": "stdout",
          "text": [
            " Processed 1934/1935 files"
          ]
        }
      ]
    },
    {
      "cell_type": "code",
      "source": [
        "class ParallelModel(nn.Module):\n",
        "    def __init__(self,num_emotions):\n",
        "        super().__init__()\n",
        "        # conv block\n",
        "        self.conv2Dblock = nn.Sequential(\n",
        "            # 1. conv block\n",
        "            nn.Conv2d(in_channels=1,\n",
        "                       out_channels=16,\n",
        "                       kernel_size=3,\n",
        "                       stride=1,\n",
        "                       padding=1\n",
        "                      ),\n",
        "            nn.BatchNorm2d(16),\n",
        "            nn.ReLU(),\n",
        "            nn.MaxPool2d(kernel_size=2, stride=2),\n",
        "            nn.Dropout(p=0.3),\n",
        "            # 2. conv block\n",
        "            nn.Conv2d(in_channels=16,\n",
        "                       out_channels=32,\n",
        "                       kernel_size=3,\n",
        "                       stride=1,\n",
        "                       padding=1\n",
        "                      ),\n",
        "            nn.BatchNorm2d(32),\n",
        "            nn.ReLU(),\n",
        "            nn.MaxPool2d(kernel_size=4, stride=4),\n",
        "            nn.Dropout(p=0.3),\n",
        "            # 3. conv block\n",
        "            nn.Conv2d(in_channels=32,\n",
        "                       out_channels=64,\n",
        "                       kernel_size=3,\n",
        "                       stride=1,\n",
        "                       padding=1\n",
        "                      ),\n",
        "            nn.BatchNorm2d(64),\n",
        "            nn.ReLU(),\n",
        "            nn.MaxPool2d(kernel_size=4, stride=4),\n",
        "            nn.Dropout(p=0.3),\n",
        "            # 4. conv block\n",
        "            nn.Conv2d(in_channels=64,\n",
        "                       out_channels=64,\n",
        "                       kernel_size=3,\n",
        "                       stride=1,\n",
        "                       padding=1\n",
        "                      ),\n",
        "            nn.BatchNorm2d(64),\n",
        "            nn.ReLU(),\n",
        "            nn.MaxPool2d(kernel_size=4, stride=4),\n",
        "            nn.Dropout(p=0.3)\n",
        "        )\n",
        "        # LSTM block\n",
        "        self.lstm_maxpool = nn.MaxPool2d(kernel_size=[2,4], stride=[2,4])\n",
        "        hidden_size = 128\n",
        "        self.lstm = nn.LSTM(input_size=64,hidden_size=hidden_size,bidirectional=True, batch_first=True)\n",
        "        self.dropout_lstm = nn.Dropout(0.1)\n",
        "        self.attention_linear = nn.Linear(2*hidden_size,1) # 2*hidden_size for the 2 outputs of bidir LSTM\n",
        "        # Linear softmax layer\n",
        "        self.out_linear = nn.Linear(2*hidden_size+64,num_emotions)\n",
        "        self.dropout_linear = nn.Dropout(p=0)\n",
        "        self.out_softmax = nn.Softmax(dim=1)\n",
        "    def forward(self,x):\n",
        "        # conv embedding\n",
        "        conv_embedding = self.conv2Dblock(x) #(b,channel,freq,time)\n",
        "        conv_embedding = torch.flatten(conv_embedding, start_dim=1) # do not flatten batch dimension\n",
        "        # lstm embedding\n",
        "        x_reduced = self.lstm_maxpool(x)\n",
        "        x_reduced = torch.squeeze(x_reduced,1)\n",
        "        x_reduced = x_reduced.permute(0,2,1) # (b,t,freq)\n",
        "        lstm_embedding, (h,c) = self.lstm(x_reduced) # (b, time, hidden_size*2)\n",
        "        lstm_embedding = self.dropout_lstm(lstm_embedding)\n",
        "        batch_size,T,_ = lstm_embedding.shape\n",
        "        attention_weights = [None]*T\n",
        "        for t in range(T):\n",
        "            embedding = lstm_embedding[:,t,:]\n",
        "            attention_weights[t] = self.attention_linear(embedding)\n",
        "        attention_weights_norm = nn.functional.softmax(torch.stack(attention_weights,-1),-1)\n",
        "        attention = torch.bmm(attention_weights_norm,lstm_embedding) # (Bx1xT)*(B,T,hidden_size*2)=(B,1,2*hidden_size)\n",
        "        attention = torch.squeeze(attention, 1)\n",
        "        # concatenate\n",
        "        complete_embedding = torch.cat([conv_embedding, attention], dim=1)\n",
        "\n",
        "        output_logits = self.out_linear(complete_embedding)\n",
        "        output_logits = self.dropout_linear(output_logits)\n",
        "        output_softmax = self.out_softmax(output_logits)\n",
        "        return output_logits, output_softmax, attention_weights_norm"
      ],
      "metadata": {
        "id": "XYoXSTZjSjQI"
      },
      "execution_count": 14,
      "outputs": []
    },
    {
      "cell_type": "code",
      "source": [
        "def loss_fnc(predictions, targets):\n",
        "    return nn.CrossEntropyLoss()(input=predictions,target=targets)"
      ],
      "metadata": {
        "id": "O6Gj0pY6Swwj"
      },
      "execution_count": 15,
      "outputs": []
    },
    {
      "cell_type": "code",
      "source": [
        "def make_train_step(model, loss_fnc, optimizer):\n",
        "    def train_step(X,Y):\n",
        "        # set model to train mode\n",
        "        model.train()\n",
        "        # forward pass\n",
        "        output_logits, output_softmax, attention_weights_norm = model(X)\n",
        "        predictions = torch.argmax(output_softmax,dim=1)\n",
        "        accuracy = torch.sum(Y==predictions)/float(len(Y))\n",
        "        # compute loss\n",
        "        loss = loss_fnc(output_logits, Y)\n",
        "        # compute gradients\n",
        "        loss.backward()\n",
        "        # update parameters and zero gradients\n",
        "        optimizer.step()\n",
        "        optimizer.zero_grad()\n",
        "        return loss.item(), accuracy*100\n",
        "    return train_step"
      ],
      "metadata": {
        "id": "MoGfAAy3Sz9P"
      },
      "execution_count": 16,
      "outputs": []
    },
    {
      "cell_type": "code",
      "source": [
        "def make_validate_fnc(model,loss_fnc):\n",
        "    def validate(X,Y):\n",
        "        with torch.no_grad():\n",
        "            model.eval()\n",
        "            output_logits, output_softmax, attention_weights_norm = model(X)\n",
        "            predictions = torch.argmax(output_softmax,dim=1)\n",
        "            accuracy = torch.sum(Y==predictions)/float(len(Y))\n",
        "            loss = loss_fnc(output_logits,Y)\n",
        "        return loss.item(), accuracy*100, predictions\n",
        "    return validate"
      ],
      "metadata": {
        "id": "G_gqEea-S1BO"
      },
      "execution_count": 17,
      "outputs": []
    },
    {
      "cell_type": "code",
      "source": [
        "X = np.stack(mel_spectrograms,axis=0)\n",
        "X = np.expand_dims(X,1)\n",
        "print('Shape of data: ',X.shape)\n",
        "\n",
        "del mel_spectrograms\n",
        "del signals"
      ],
      "metadata": {
        "colab": {
          "base_uri": "https://localhost:8080/"
        },
        "id": "1HwLS4s8S21O",
        "outputId": "b966fa05-6259-4bd7-ee2b-b98af0ddeba4"
      },
      "execution_count": 18,
      "outputs": [
        {
          "output_type": "stream",
          "name": "stdout",
          "text": [
            "Shape of data:  (5805, 1, 128, 188)\n"
          ]
        }
      ]
    },
    {
      "cell_type": "code",
      "source": [
        "train_ind,test_ind,val_ind = [],[],[]\n",
        "X_train,X_val,X_test = [],[],[]\n",
        "Y_train,Y_val,Y_test = [],[],[]\n",
        "for emotion in range(len(EMOTIONS)):\n",
        "    emotion_ind = list(Data.loc[Data.Emotion==emotion,'Emotion'].index)\n",
        "    emotion_ind = np.random.permutation(emotion_ind)\n",
        "    m = len(emotion_ind)\n",
        "    ind_train = emotion_ind[:int(0.8*m)]\n",
        "    ind_val = emotion_ind[int(0.8*m):int(0.9*m)]\n",
        "    ind_test = emotion_ind[int(0.9*m):]\n",
        "    X_train.append(X[ind_train,:,:,:])\n",
        "    Y_train.append(np.array([emotion]*len(ind_train),dtype=np.int32))\n",
        "    X_val.append(X[ind_val,:,:,:])\n",
        "    Y_val.append(np.array([emotion]*len(ind_val),dtype=np.int32))\n",
        "    X_test.append(X[ind_test,:,:,:])\n",
        "    Y_test.append(np.array([emotion]*len(ind_test),dtype=np.int32))\n",
        "    train_ind.append(ind_train)\n",
        "    test_ind.append(ind_test)\n",
        "    val_ind.append(ind_val)\n",
        "X_train = np.concatenate(X_train,0)\n",
        "X_val = np.concatenate(X_val,0)\n",
        "X_test = np.concatenate(X_test,0)\n",
        "Y_train = np.concatenate(Y_train,0)\n",
        "Y_val = np.concatenate(Y_val,0)\n",
        "Y_test = np.concatenate(Y_test,0)\n",
        "train_ind = np.concatenate(train_ind,0)\n",
        "val_ind = np.concatenate(val_ind,0)\n",
        "test_ind = np.concatenate(test_ind,0)\n",
        "print(f'X_train:{X_train.shape}, Y_train:{Y_train.shape}')\n",
        "print(f'X_val:{X_val.shape}, Y_val:{Y_val.shape}')\n",
        "print(f'X_test:{X_test.shape}, Y_test:{Y_test.shape}')\n",
        "# check if all are unique\n",
        "unique, count = np.unique(np.concatenate([train_ind,test_ind,val_ind],0), return_counts=True)\n",
        "print(\"Number of unique indexes is {}, out of {}\".format(sum(count==1), X.shape[0]))\n",
        "\n",
        "del X"
      ],
      "metadata": {
        "colab": {
          "base_uri": "https://localhost:8080/"
        },
        "id": "shaD4K7gS4A4",
        "outputId": "ef2cd87b-dd7a-49ca-a50b-1a20e2a74bcc"
      },
      "execution_count": 19,
      "outputs": [
        {
          "output_type": "stream",
          "name": "stdout",
          "text": [
            "X_train:(4643, 1, 128, 188), Y_train:(4643,)\n",
            "X_val:(580, 1, 128, 188), Y_val:(580,)\n",
            "X_test:(582, 1, 128, 188), Y_test:(582,)\n",
            "Number of unique indexes is 5805, out of 5805\n"
          ]
        }
      ]
    },
    {
      "cell_type": "code",
      "source": [
        "from sklearn.preprocessing import StandardScaler\n",
        "\n",
        "scaler = StandardScaler()\n",
        "\n",
        "b,c,h,w = X_train.shape\n",
        "X_train = np.reshape(X_train, newshape=(b,-1))\n",
        "X_train = scaler.fit_transform(X_train)\n",
        "X_train = np.reshape(X_train, newshape=(b,c,h,w))\n",
        "\n",
        "b,c,h,w = X_test.shape\n",
        "X_test = np.reshape(X_test, newshape=(b,-1))\n",
        "X_test = scaler.transform(X_test)\n",
        "X_test = np.reshape(X_test, newshape=(b,c,h,w))\n",
        "\n",
        "b,c,h,w = X_val.shape\n",
        "X_val = np.reshape(X_val, newshape=(b,-1))\n",
        "X_val = scaler.transform(X_val)\n",
        "X_val = np.reshape(X_val, newshape=(b,c,h,w))"
      ],
      "metadata": {
        "id": "20wLY7u2S5ZN"
      },
      "execution_count": 20,
      "outputs": []
    },
    {
      "cell_type": "code",
      "source": [
        "device = 'cuda' if torch.cuda.is_available() else 'cpu'\n",
        "EPOCHS = 100\n",
        "DATASET_SIZE = X_train.shape[0]\n",
        "BATCH_SIZE = 32\n",
        "print('Selected device is {}'.format(device))\n",
        "model = ParallelModel(num_emotions=len(EMOTIONS)).to(device)\n",
        "print('Number of trainable params: ', sum(p.numel() for p in model.parameters()))\n",
        "optimizer = torch.optim.SGD(model.parameters(), lr=0.05, weight_decay=1e-3, momentum=0.8)\n",
        "scheduler = ReduceLROnPlateau(optimizer, mode='min', factor=0.1, patience=5, verbose=True)\n",
        "\n",
        "train_step = make_train_step(model, loss_fnc, optimizer=optimizer)\n",
        "validate = make_validate_fnc(model, loss_fnc)\n",
        "losses = []\n",
        "val_losses = []\n",
        "\n",
        "# Training loop with learning rate scheduler\n",
        "for epoch in range(EPOCHS):\n",
        "    # Shuffle data\n",
        "    ind = np.random.permutation(DATASET_SIZE)\n",
        "    X_train = X_train[ind,:,:,:]\n",
        "    Y_train = Y_train[ind]\n",
        "    epoch_acc = 0\n",
        "    epoch_loss = 0\n",
        "    iters = int(DATASET_SIZE / BATCH_SIZE)\n",
        "    for i in range(iters):\n",
        "        batch_start = i * BATCH_SIZE\n",
        "        batch_end = min(batch_start + BATCH_SIZE, DATASET_SIZE)\n",
        "        actual_batch_size = batch_end - batch_start\n",
        "        X = X_train[batch_start:batch_end,:,:,:]\n",
        "        Y = Y_train[batch_start:batch_end]\n",
        "        X_tensor = torch.tensor(X, device=device).float()\n",
        "        Y_tensor = torch.tensor(Y, dtype=torch.long, device=device)\n",
        "        loss, acc = train_step(X_tensor, Y_tensor)\n",
        "        epoch_acc += acc * actual_batch_size / DATASET_SIZE\n",
        "        epoch_loss += loss * actual_batch_size / DATASET_SIZE\n",
        "        print(f\"\\r Epoch {epoch}: iteration {i}/{iters}\", end='')\n",
        "\n",
        "    # Adjust learning rate based on validation loss\n",
        "    X_val_tensor = torch.tensor(X_val,device=device).float()\n",
        "    Y_val_tensor = torch.tensor(Y_val,dtype=torch.long,device=device)\n",
        "    val_loss, val_acc, _ = validate(X_val_tensor, Y_val_tensor)\n",
        "    scheduler.step(val_loss)\n",
        "\n",
        "    losses.append(epoch_loss)\n",
        "    val_losses.append(val_loss)\n",
        "    print('')\n",
        "    print(f\"Epoch {epoch} --> loss:{epoch_loss:.4f}, acc:{epoch_acc:.2f}%, val_loss:{val_loss:.4f}, val_acc:{val_acc:.2f}%\")\n"
      ],
      "metadata": {
        "colab": {
          "base_uri": "https://localhost:8080/"
        },
        "id": "9evr6gJJTC9I",
        "outputId": "7975e9a3-8844-4c6c-a6b5-cce709531bc8"
      },
      "execution_count": 21,
      "outputs": [
        {
          "output_type": "stream",
          "name": "stdout",
          "text": [
            "Selected device is cuda\n",
            "Number of trainable params:  260452\n"
          ]
        },
        {
          "output_type": "stream",
          "name": "stderr",
          "text": [
            "/usr/local/lib/python3.10/dist-packages/torch/optim/lr_scheduler.py:28: UserWarning: The verbose parameter is deprecated. Please use get_last_lr() to access the learning rate.\n",
            "  warnings.warn(\"The verbose parameter is deprecated. Please use get_last_lr() \"\n"
          ]
        },
        {
          "output_type": "stream",
          "name": "stdout",
          "text": [
            " Epoch 0: iteration 144/145\n",
            "Epoch 0 --> loss:1.1568, acc:42.69%, val_loss:1.0094, val_acc:52.07%\n",
            " Epoch 1: iteration 144/145\n",
            "Epoch 1 --> loss:0.9133, acc:53.78%, val_loss:0.8523, val_acc:56.21%\n",
            " Epoch 2: iteration 144/145\n",
            "Epoch 2 --> loss:0.8039, acc:61.40%, val_loss:0.7755, val_acc:66.38%\n",
            " Epoch 3: iteration 144/145\n",
            "Epoch 3 --> loss:0.7134, acc:67.24%, val_loss:0.7535, val_acc:68.62%\n",
            " Epoch 4: iteration 144/145\n",
            "Epoch 4 --> loss:0.6769, acc:69.35%, val_loss:1.0476, val_acc:56.21%\n",
            " Epoch 5: iteration 144/145\n",
            "Epoch 5 --> loss:0.6301, acc:72.28%, val_loss:0.6641, val_acc:71.55%\n",
            " Epoch 6: iteration 144/145\n",
            "Epoch 6 --> loss:0.5646, acc:75.55%, val_loss:0.6612, val_acc:70.86%\n",
            " Epoch 7: iteration 144/145\n",
            "Epoch 7 --> loss:0.5748, acc:75.30%, val_loss:0.6259, val_acc:72.41%\n",
            " Epoch 8: iteration 144/145\n",
            "Epoch 8 --> loss:0.5274, acc:77.79%, val_loss:0.7551, val_acc:66.38%\n",
            " Epoch 9: iteration 144/145\n",
            "Epoch 9 --> loss:0.4811, acc:79.37%, val_loss:0.6562, val_acc:73.62%\n",
            " Epoch 10: iteration 144/145\n",
            "Epoch 10 --> loss:0.4652, acc:79.95%, val_loss:0.5581, val_acc:76.90%\n",
            " Epoch 11: iteration 144/145\n",
            "Epoch 11 --> loss:0.4797, acc:80.25%, val_loss:0.5717, val_acc:77.59%\n",
            " Epoch 12: iteration 144/145\n",
            "Epoch 12 --> loss:0.4157, acc:82.77%, val_loss:0.4818, val_acc:81.72%\n",
            " Epoch 13: iteration 144/145\n",
            "Epoch 13 --> loss:0.4162, acc:82.53%, val_loss:0.5404, val_acc:77.76%\n",
            " Epoch 14: iteration 144/145\n",
            "Epoch 14 --> loss:0.3857, acc:84.15%, val_loss:0.4875, val_acc:80.00%\n",
            " Epoch 15: iteration 144/145\n",
            "Epoch 15 --> loss:0.3661, acc:84.58%, val_loss:0.4355, val_acc:82.07%\n",
            " Epoch 16: iteration 144/145\n",
            "Epoch 16 --> loss:0.3438, acc:86.37%, val_loss:0.4349, val_acc:82.24%\n",
            " Epoch 17: iteration 144/145\n",
            "Epoch 17 --> loss:0.3148, acc:88.05%, val_loss:0.3608, val_acc:86.72%\n",
            " Epoch 18: iteration 144/145\n",
            "Epoch 18 --> loss:0.2944, acc:88.26%, val_loss:0.3856, val_acc:84.14%\n",
            " Epoch 19: iteration 144/145\n",
            "Epoch 19 --> loss:0.3195, acc:87.23%, val_loss:0.4956, val_acc:81.21%\n",
            " Epoch 20: iteration 144/145\n",
            "Epoch 20 --> loss:0.2697, acc:89.27%, val_loss:0.4777, val_acc:82.93%\n",
            " Epoch 21: iteration 144/145\n",
            "Epoch 21 --> loss:0.2844, acc:88.69%, val_loss:0.3315, val_acc:85.69%\n",
            " Epoch 22: iteration 144/145\n",
            "Epoch 22 --> loss:0.2744, acc:88.63%, val_loss:0.4769, val_acc:79.66%\n",
            " Epoch 23: iteration 144/145\n",
            "Epoch 23 --> loss:0.2649, acc:89.62%, val_loss:0.3579, val_acc:85.86%\n",
            " Epoch 24: iteration 144/145\n",
            "Epoch 24 --> loss:0.2378, acc:91.06%, val_loss:0.3054, val_acc:87.24%\n",
            " Epoch 25: iteration 144/145\n",
            "Epoch 25 --> loss:0.2303, acc:90.98%, val_loss:0.3621, val_acc:84.14%\n",
            " Epoch 26: iteration 144/145\n",
            "Epoch 26 --> loss:0.2350, acc:90.91%, val_loss:0.3850, val_acc:83.79%\n",
            " Epoch 27: iteration 144/145\n",
            "Epoch 27 --> loss:0.2192, acc:91.82%, val_loss:0.3386, val_acc:87.07%\n",
            " Epoch 28: iteration 144/145\n",
            "Epoch 28 --> loss:0.2103, acc:91.99%, val_loss:0.3818, val_acc:85.00%\n",
            " Epoch 29: iteration 144/145\n",
            "Epoch 29 --> loss:0.2307, acc:90.76%, val_loss:0.4424, val_acc:82.93%\n",
            " Epoch 30: iteration 144/145\n",
            "Epoch 30 --> loss:0.2164, acc:91.60%, val_loss:0.3328, val_acc:87.41%\n",
            " Epoch 31: iteration 144/145\n",
            "Epoch 31 --> loss:0.1146, acc:96.32%, val_loss:0.1943, val_acc:92.59%\n",
            " Epoch 32: iteration 144/145\n",
            "Epoch 32 --> loss:0.0909, acc:97.57%, val_loss:0.1911, val_acc:92.59%\n",
            " Epoch 33: iteration 144/145\n",
            "Epoch 33 --> loss:0.0834, acc:97.93%, val_loss:0.1832, val_acc:92.76%\n",
            " Epoch 34: iteration 144/145\n",
            "Epoch 34 --> loss:0.0825, acc:97.61%, val_loss:0.1770, val_acc:92.59%\n",
            " Epoch 35: iteration 144/145\n",
            "Epoch 35 --> loss:0.0767, acc:97.87%, val_loss:0.1701, val_acc:93.79%\n",
            " Epoch 36: iteration 144/145\n",
            "Epoch 36 --> loss:0.0742, acc:98.21%, val_loss:0.1746, val_acc:92.76%\n",
            " Epoch 37: iteration 144/145\n",
            "Epoch 37 --> loss:0.0730, acc:98.19%, val_loss:0.1667, val_acc:93.45%\n",
            " Epoch 38: iteration 144/145\n",
            "Epoch 38 --> loss:0.0686, acc:98.19%, val_loss:0.1619, val_acc:93.79%\n",
            " Epoch 39: iteration 144/145\n",
            "Epoch 39 --> loss:0.0655, acc:98.47%, val_loss:0.1592, val_acc:93.62%\n",
            " Epoch 40: iteration 144/145\n",
            "Epoch 40 --> loss:0.0642, acc:98.56%, val_loss:0.1601, val_acc:94.14%\n",
            " Epoch 41: iteration 144/145\n",
            "Epoch 41 --> loss:0.0625, acc:98.43%, val_loss:0.1540, val_acc:94.66%\n",
            " Epoch 42: iteration 144/145\n",
            "Epoch 42 --> loss:0.0598, acc:98.56%, val_loss:0.1471, val_acc:95.00%\n",
            " Epoch 43: iteration 144/145\n",
            "Epoch 43 --> loss:0.0583, acc:98.51%, val_loss:0.1526, val_acc:94.48%\n",
            " Epoch 44: iteration 144/145\n",
            "Epoch 44 --> loss:0.0557, acc:98.64%, val_loss:0.1449, val_acc:95.00%\n",
            " Epoch 45: iteration 144/145\n",
            "Epoch 45 --> loss:0.0560, acc:98.77%, val_loss:0.1482, val_acc:94.83%\n",
            " Epoch 46: iteration 144/145\n",
            "Epoch 46 --> loss:0.0544, acc:98.77%, val_loss:0.1442, val_acc:94.66%\n",
            " Epoch 47: iteration 144/145\n",
            "Epoch 47 --> loss:0.0533, acc:98.94%, val_loss:0.1519, val_acc:94.31%\n",
            " Epoch 48: iteration 144/145\n",
            "Epoch 48 --> loss:0.0519, acc:98.88%, val_loss:0.1434, val_acc:95.00%\n",
            " Epoch 49: iteration 144/145\n",
            "Epoch 49 --> loss:0.0529, acc:98.88%, val_loss:0.1467, val_acc:94.83%\n",
            " Epoch 50: iteration 144/145\n",
            "Epoch 50 --> loss:0.0483, acc:99.16%, val_loss:0.1438, val_acc:94.83%\n",
            " Epoch 51: iteration 144/145\n",
            "Epoch 51 --> loss:0.0476, acc:99.12%, val_loss:0.1392, val_acc:95.00%\n",
            " Epoch 52: iteration 144/145\n",
            "Epoch 52 --> loss:0.0482, acc:99.18%, val_loss:0.1414, val_acc:95.00%\n",
            " Epoch 53: iteration 144/145\n",
            "Epoch 53 --> loss:0.0496, acc:98.94%, val_loss:0.1383, val_acc:94.83%\n",
            " Epoch 54: iteration 144/145\n",
            "Epoch 54 --> loss:0.0474, acc:99.12%, val_loss:0.1393, val_acc:94.83%\n",
            " Epoch 55: iteration 144/145\n",
            "Epoch 55 --> loss:0.0468, acc:98.99%, val_loss:0.1455, val_acc:94.31%\n",
            " Epoch 56: iteration 144/145\n",
            "Epoch 56 --> loss:0.0483, acc:98.90%, val_loss:0.1340, val_acc:95.34%\n",
            " Epoch 57: iteration 144/145\n",
            "Epoch 57 --> loss:0.0431, acc:99.33%, val_loss:0.1361, val_acc:95.34%\n",
            " Epoch 58: iteration 144/145\n",
            "Epoch 58 --> loss:0.0426, acc:99.25%, val_loss:0.1494, val_acc:93.79%\n",
            " Epoch 59: iteration 144/145\n",
            "Epoch 59 --> loss:0.0412, acc:99.35%, val_loss:0.1411, val_acc:95.17%\n",
            " Epoch 60: iteration 144/145\n",
            "Epoch 60 --> loss:0.0414, acc:99.29%, val_loss:0.1324, val_acc:95.69%\n",
            " Epoch 61: iteration 144/145\n",
            "Epoch 61 --> loss:0.0397, acc:99.40%, val_loss:0.1357, val_acc:94.66%\n",
            " Epoch 62: iteration 144/145\n",
            "Epoch 62 --> loss:0.0400, acc:99.25%, val_loss:0.1408, val_acc:95.00%\n",
            " Epoch 63: iteration 144/145\n",
            "Epoch 63 --> loss:0.0371, acc:99.46%, val_loss:0.1316, val_acc:95.17%\n",
            " Epoch 64: iteration 144/145\n",
            "Epoch 64 --> loss:0.0387, acc:99.27%, val_loss:0.1288, val_acc:95.34%\n",
            " Epoch 65: iteration 144/145\n",
            "Epoch 65 --> loss:0.0376, acc:99.27%, val_loss:0.1315, val_acc:95.52%\n",
            " Epoch 66: iteration 144/145\n",
            "Epoch 66 --> loss:0.0379, acc:99.25%, val_loss:0.1337, val_acc:95.52%\n",
            " Epoch 67: iteration 144/145\n",
            "Epoch 67 --> loss:0.0351, acc:99.46%, val_loss:0.1354, val_acc:95.34%\n",
            " Epoch 68: iteration 144/145\n",
            "Epoch 68 --> loss:0.0372, acc:99.33%, val_loss:0.1284, val_acc:95.52%\n",
            " Epoch 69: iteration 144/145\n",
            "Epoch 69 --> loss:0.0358, acc:99.44%, val_loss:0.1296, val_acc:95.17%\n",
            " Epoch 70: iteration 144/145\n",
            "Epoch 70 --> loss:0.0366, acc:99.50%, val_loss:0.1280, val_acc:95.34%\n",
            " Epoch 71: iteration 144/145\n",
            "Epoch 71 --> loss:0.0359, acc:99.33%, val_loss:0.1221, val_acc:95.86%\n",
            " Epoch 72: iteration 144/145\n",
            "Epoch 72 --> loss:0.0360, acc:99.31%, val_loss:0.1279, val_acc:95.52%\n",
            " Epoch 73: iteration 144/145\n",
            "Epoch 73 --> loss:0.0356, acc:99.53%, val_loss:0.1272, val_acc:95.34%\n",
            " Epoch 74: iteration 144/145\n",
            "Epoch 74 --> loss:0.0348, acc:99.31%, val_loss:0.1237, val_acc:96.21%\n",
            " Epoch 75: iteration 144/145\n",
            "Epoch 75 --> loss:0.0319, acc:99.63%, val_loss:0.1293, val_acc:95.52%\n",
            " Epoch 76: iteration 144/145\n",
            "Epoch 76 --> loss:0.0329, acc:99.44%, val_loss:0.1402, val_acc:95.34%\n",
            " Epoch 77: iteration 144/145\n",
            "Epoch 77 --> loss:0.0321, acc:99.57%, val_loss:0.1288, val_acc:95.86%\n",
            " Epoch 78: iteration 144/145\n",
            "Epoch 78 --> loss:0.0288, acc:99.63%, val_loss:0.1288, val_acc:95.86%\n",
            " Epoch 79: iteration 144/145\n",
            "Epoch 79 --> loss:0.0284, acc:99.68%, val_loss:0.1260, val_acc:95.86%\n",
            " Epoch 80: iteration 144/145\n",
            "Epoch 80 --> loss:0.0272, acc:99.68%, val_loss:0.1246, val_acc:96.21%\n",
            " Epoch 81: iteration 144/145\n",
            "Epoch 81 --> loss:0.0286, acc:99.63%, val_loss:0.1228, val_acc:96.03%\n",
            " Epoch 82: iteration 144/145\n",
            "Epoch 82 --> loss:0.0291, acc:99.57%, val_loss:0.1260, val_acc:96.38%\n",
            " Epoch 83: iteration 144/145\n",
            "Epoch 83 --> loss:0.0268, acc:99.70%, val_loss:0.1226, val_acc:96.21%\n",
            " Epoch 84: iteration 144/145\n",
            "Epoch 84 --> loss:0.0277, acc:99.74%, val_loss:0.1235, val_acc:96.03%\n",
            " Epoch 85: iteration 144/145\n",
            "Epoch 85 --> loss:0.0275, acc:99.66%, val_loss:0.1239, val_acc:96.21%\n",
            " Epoch 86: iteration 144/145\n",
            "Epoch 86 --> loss:0.0288, acc:99.66%, val_loss:0.1238, val_acc:96.21%\n",
            " Epoch 87: iteration 144/145\n",
            "Epoch 87 --> loss:0.0282, acc:99.76%, val_loss:0.1249, val_acc:96.21%\n",
            " Epoch 88: iteration 144/145\n",
            "Epoch 88 --> loss:0.0274, acc:99.68%, val_loss:0.1231, val_acc:95.86%\n",
            " Epoch 89: iteration 144/145\n",
            "Epoch 89 --> loss:0.0267, acc:99.66%, val_loss:0.1234, val_acc:96.21%\n",
            " Epoch 90: iteration 144/145\n",
            "Epoch 90 --> loss:0.0284, acc:99.66%, val_loss:0.1228, val_acc:96.21%\n",
            " Epoch 91: iteration 144/145\n",
            "Epoch 91 --> loss:0.0283, acc:99.70%, val_loss:0.1232, val_acc:96.21%\n",
            " Epoch 92: iteration 144/145\n",
            "Epoch 92 --> loss:0.0271, acc:99.72%, val_loss:0.1221, val_acc:96.21%\n",
            " Epoch 93: iteration 144/145\n",
            "Epoch 93 --> loss:0.0279, acc:99.68%, val_loss:0.1234, val_acc:96.21%\n",
            " Epoch 94: iteration 144/145\n",
            "Epoch 94 --> loss:0.0276, acc:99.74%, val_loss:0.1233, val_acc:96.21%\n",
            " Epoch 95: iteration 144/145\n",
            "Epoch 95 --> loss:0.0306, acc:99.59%, val_loss:0.1236, val_acc:96.21%\n",
            " Epoch 96: iteration 144/145\n",
            "Epoch 96 --> loss:0.0275, acc:99.76%, val_loss:0.1244, val_acc:96.21%\n",
            " Epoch 97: iteration 144/145\n",
            "Epoch 97 --> loss:0.0266, acc:99.76%, val_loss:0.1232, val_acc:96.21%\n",
            " Epoch 98: iteration 144/145\n",
            "Epoch 98 --> loss:0.0261, acc:99.72%, val_loss:0.1243, val_acc:96.03%\n",
            " Epoch 99: iteration 144/145\n",
            "Epoch 99 --> loss:0.0270, acc:99.78%, val_loss:0.1232, val_acc:96.21%\n"
          ]
        }
      ]
    },
    {
      "cell_type": "code",
      "source": [
        "X_test_tensor = torch.tensor(X_test,device=device).float()\n",
        "Y_test_tensor = torch.tensor(Y_test,dtype=torch.long,device=device)\n",
        "test_loss, test_acc, predictions = validate(X_test_tensor,Y_test_tensor)\n",
        "print(f'Test loss is {test_loss:.3f}')\n",
        "print(f'Test accuracy is {test_acc:.2f}%')"
      ],
      "metadata": {
        "colab": {
          "base_uri": "https://localhost:8080/"
        },
        "id": "qFOiTUchTE7O",
        "outputId": "034787e9-7b34-47f4-e370-016e722aaa3d"
      },
      "execution_count": 28,
      "outputs": [
        {
          "output_type": "stream",
          "name": "stdout",
          "text": [
            "Test loss is 0.101\n",
            "Test accuracy is 96.91%\n"
          ]
        }
      ]
    },
    {
      "cell_type": "code",
      "source": [
        "SAVE_PATH = os.path.join(os.getcwd(),'models')\n",
        "os.makedirs('models',exist_ok=True)\n",
        "torch.save(model.state_dict(),os.path.join(SAVE_PATH,'Parallel_Cnn_Attention_LSTM3.pt'))\n",
        "print('Model is saved to {}'.format(os.path.join(SAVE_PATH,'Parallel_Cnn_Attention_LSTM3.pt')))"
      ],
      "metadata": {
        "colab": {
          "base_uri": "https://localhost:8080/"
        },
        "id": "pEs05NxjYEiH",
        "outputId": "ef6cd1ed-c3dc-4112-f2a4-bbda1af8d8a3"
      },
      "execution_count": 22,
      "outputs": [
        {
          "output_type": "stream",
          "name": "stdout",
          "text": [
            "Model is saved to /content/models/Parallel_Cnn_Attention_LSTM.pt\n"
          ]
        }
      ]
    },
    {
      "cell_type": "code",
      "source": [
        "# Suppose EMOTIONS is a list of integer indices\n",
        "EMOTIONS = [0, 1, 2]\n",
        "\n",
        "# Define a mapping from integer indices to emotion names\n",
        "EMOTION_NAMES = {0: 'low', 1: 'neutral', 2: 'high'}\n",
        "\n",
        "# Convert integer indices to emotion names\n",
        "target_names = [EMOTION_NAMES[emotion] for emotion in EMOTIONS]\n",
        "\n",
        "# Ensure that predictions and Y_test are numpy arrays\n",
        "\n",
        "Y_test = Y_test_tensor.cpu().numpy()\n",
        "\n",
        "# Generate the classification report\n",
        "report = classification_report(Y_test, predictions, target_names=target_names)\n",
        "print(\"\\nClassification Report:\\n\")\n",
        "print(report)"
      ],
      "metadata": {
        "colab": {
          "base_uri": "https://localhost:8080/"
        },
        "id": "MyeJRPyAph9o",
        "outputId": "099dc3bb-1bd7-4eac-fb37-9f28f64ce1fb"
      },
      "execution_count": 37,
      "outputs": [
        {
          "output_type": "stream",
          "name": "stdout",
          "text": [
            "<class 'numpy.ndarray'>\n",
            "\n",
            "Classification Report:\n",
            "\n",
            "              precision    recall  f1-score   support\n",
            "\n",
            "         low       0.98      0.97      0.97       176\n",
            "     neutral       0.97      0.96      0.96       202\n",
            "        high       0.96      0.99      0.97       204\n",
            "\n",
            "    accuracy                           0.97       582\n",
            "   macro avg       0.97      0.97      0.97       582\n",
            "weighted avg       0.97      0.97      0.97       582\n",
            "\n"
          ]
        }
      ]
    },
    {
      "cell_type": "code",
      "source": [
        "# Generate the confusion matrix\n",
        "import seaborn as sns\n",
        "\n",
        "conf_matrix = confusion_matrix(Y_test, predictions)\n",
        "\n",
        "# Plot the confusion matrix\n",
        "plt.figure(figsize=(10, 8))\n",
        "sns.heatmap(conf_matrix, annot=True, fmt=\"d\", cmap=\"Blues\", xticklabels=EMOTIONS, yticklabels=EMOTIONS)\n",
        "plt.xlabel(\"Predicted\")\n",
        "plt.ylabel(\"True\")\n",
        "plt.title(\"Confusion Matrix\")\n",
        "plt.show()"
      ],
      "metadata": {
        "colab": {
          "base_uri": "https://localhost:8080/",
          "height": 718
        },
        "id": "BYvhZmY7tV5u",
        "outputId": "199ee9ff-c96c-4d50-aedb-e3e05d0aa1c8"
      },
      "execution_count": 32,
      "outputs": [
        {
          "output_type": "display_data",
          "data": {
            "text/plain": [
              "<Figure size 1000x800 with 2 Axes>"
            ],
            "image/png": "[encoded data removed]"
          },
          "metadata": {}
        }
      ]
    },
    {
      "cell_type": "code",
      "source": [],
      "metadata": {
        "id": "C1Cw-HY6tYtG"
      },
      "execution_count": null,
      "outputs": []
    }
  ]
}